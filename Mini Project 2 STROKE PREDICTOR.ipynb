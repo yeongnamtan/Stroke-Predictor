{
 "cells": [
  {
   "cell_type": "markdown",
   "id": "bacb8c10",
   "metadata": {},
   "source": [
    "# MINI PROJECT 2: STROKE PREDICTION \n",
    "This dataset is used to predict whether a patient is likely to get stroke \n",
    "based on the input parameters like gender, age, various diseases, and smoking status. Each row in the data provides relavant information about the patient.\n",
    "\n",
    "\n",
    "1) id: unique identifier\n",
    "\n",
    "2) gender: \"Male\", \"Female\" or \"Other\"\n",
    "\n",
    "3) age: age of the patient\n",
    "\n",
    "4) hypertension: 0 if the patient doesn't have hypertension, 1 if the patient has hypertension\n",
    "\n",
    "5) heart_disease: 0 if the patient doesn't have any heart diseases, 1 if the patient has a heart disease\n",
    "\n",
    "6) ever_married: \"No\" or \"Yes\"\n",
    "\n",
    "7) work_type: \"children\", \"Govt_jov\", \"Never_worked\", \"Private\" or \"Self-employed\"\n",
    "\n",
    "8) Residence_type: \"Rural\" or \"Urban\"\n",
    "\n",
    "9) avg_glucose_level: average glucose level in blood\n",
    "\n",
    "10) bmi: body mass index\n",
    "\n",
    "11) smoking_status: \"formerly smoked\", \"never smoked\", \"smokes\" or \"Unknown\"*\n",
    "\n",
    "12) stroke: 1 if the patient had a stroke or 0 if not\n",
    "\n",
    "*Note: \"Unknown\" in smoking_status means that the information is unavailable for this patient\n"
   ]
  },
  {
   "cell_type": "markdown",
   "id": "468a830c",
   "metadata": {},
   "source": [
    "# IMPORT LIBRARY\n",
    "import pandas as pd\n",
    "import numpy as np\n",
    "import matplotlib.pyplot as plt\n",
    "import seaborn as sns"
   ]
  },
  {
   "cell_type": "code",
   "execution_count": 19,
   "id": "82c7d79b",
   "metadata": {},
   "outputs": [],
   "source": [
    "# Import Libraries\n",
    "import pandas as pd\n",
    "import numpy as np\n",
    "import matplotlib.pyplot as plt\n",
    "import seaborn as sns\n",
    "\n",
    "from sklearn.model_selection import train_test_split\n",
    "from sklearn.linear_model import LogisticRegression\n",
    "from sklearn import metrics\n",
    "\n",
    "%matplotlib inline"
   ]
  },
  {
   "cell_type": "code",
   "execution_count": 20,
   "id": "2a1dad8e",
   "metadata": {},
   "outputs": [],
   "source": [
    "stroke = 'healthcare-dataset-stroke-data.csv'\n",
    "df_stroke = pd.read_csv(stroke)"
   ]
  },
  {
   "cell_type": "code",
   "execution_count": 21,
   "id": "8bc2dd0b",
   "metadata": {},
   "outputs": [
    {
     "data": {
      "text/html": [
       "<div>\n",
       "<style scoped>\n",
       "    .dataframe tbody tr th:only-of-type {\n",
       "        vertical-align: middle;\n",
       "    }\n",
       "\n",
       "    .dataframe tbody tr th {\n",
       "        vertical-align: top;\n",
       "    }\n",
       "\n",
       "    .dataframe thead th {\n",
       "        text-align: right;\n",
       "    }\n",
       "</style>\n",
       "<table border=\"1\" class=\"dataframe\">\n",
       "  <thead>\n",
       "    <tr style=\"text-align: right;\">\n",
       "      <th></th>\n",
       "      <th>id</th>\n",
       "      <th>gender</th>\n",
       "      <th>age</th>\n",
       "      <th>hypertension</th>\n",
       "      <th>heart_disease</th>\n",
       "      <th>ever_married</th>\n",
       "      <th>work_type</th>\n",
       "      <th>Residence_type</th>\n",
       "      <th>avg_glucose_level</th>\n",
       "      <th>bmi</th>\n",
       "      <th>smoking_status</th>\n",
       "      <th>stroke</th>\n",
       "    </tr>\n",
       "  </thead>\n",
       "  <tbody>\n",
       "    <tr>\n",
       "      <th>0</th>\n",
       "      <td>9046</td>\n",
       "      <td>Male</td>\n",
       "      <td>67.0</td>\n",
       "      <td>0</td>\n",
       "      <td>1</td>\n",
       "      <td>Yes</td>\n",
       "      <td>Private</td>\n",
       "      <td>Urban</td>\n",
       "      <td>228.69</td>\n",
       "      <td>36.6</td>\n",
       "      <td>formerly smoked</td>\n",
       "      <td>1</td>\n",
       "    </tr>\n",
       "    <tr>\n",
       "      <th>1</th>\n",
       "      <td>51676</td>\n",
       "      <td>Female</td>\n",
       "      <td>61.0</td>\n",
       "      <td>0</td>\n",
       "      <td>0</td>\n",
       "      <td>Yes</td>\n",
       "      <td>Self-employed</td>\n",
       "      <td>Rural</td>\n",
       "      <td>202.21</td>\n",
       "      <td>NaN</td>\n",
       "      <td>never smoked</td>\n",
       "      <td>1</td>\n",
       "    </tr>\n",
       "    <tr>\n",
       "      <th>2</th>\n",
       "      <td>31112</td>\n",
       "      <td>Male</td>\n",
       "      <td>80.0</td>\n",
       "      <td>0</td>\n",
       "      <td>1</td>\n",
       "      <td>Yes</td>\n",
       "      <td>Private</td>\n",
       "      <td>Rural</td>\n",
       "      <td>105.92</td>\n",
       "      <td>32.5</td>\n",
       "      <td>never smoked</td>\n",
       "      <td>1</td>\n",
       "    </tr>\n",
       "    <tr>\n",
       "      <th>3</th>\n",
       "      <td>60182</td>\n",
       "      <td>Female</td>\n",
       "      <td>49.0</td>\n",
       "      <td>0</td>\n",
       "      <td>0</td>\n",
       "      <td>Yes</td>\n",
       "      <td>Private</td>\n",
       "      <td>Urban</td>\n",
       "      <td>171.23</td>\n",
       "      <td>34.4</td>\n",
       "      <td>smokes</td>\n",
       "      <td>1</td>\n",
       "    </tr>\n",
       "    <tr>\n",
       "      <th>4</th>\n",
       "      <td>1665</td>\n",
       "      <td>Female</td>\n",
       "      <td>79.0</td>\n",
       "      <td>1</td>\n",
       "      <td>0</td>\n",
       "      <td>Yes</td>\n",
       "      <td>Self-employed</td>\n",
       "      <td>Rural</td>\n",
       "      <td>174.12</td>\n",
       "      <td>24.0</td>\n",
       "      <td>never smoked</td>\n",
       "      <td>1</td>\n",
       "    </tr>\n",
       "  </tbody>\n",
       "</table>\n",
       "</div>"
      ],
      "text/plain": [
       "      id  gender   age  hypertension  heart_disease ever_married  \\\n",
       "0   9046    Male  67.0             0              1          Yes   \n",
       "1  51676  Female  61.0             0              0          Yes   \n",
       "2  31112    Male  80.0             0              1          Yes   \n",
       "3  60182  Female  49.0             0              0          Yes   \n",
       "4   1665  Female  79.0             1              0          Yes   \n",
       "\n",
       "       work_type Residence_type  avg_glucose_level   bmi   smoking_status  \\\n",
       "0        Private          Urban             228.69  36.6  formerly smoked   \n",
       "1  Self-employed          Rural             202.21   NaN     never smoked   \n",
       "2        Private          Rural             105.92  32.5     never smoked   \n",
       "3        Private          Urban             171.23  34.4           smokes   \n",
       "4  Self-employed          Rural             174.12  24.0     never smoked   \n",
       "\n",
       "   stroke  \n",
       "0       1  \n",
       "1       1  \n",
       "2       1  \n",
       "3       1  \n",
       "4       1  "
      ]
     },
     "execution_count": 21,
     "metadata": {},
     "output_type": "execute_result"
    }
   ],
   "source": [
    "df_stroke.head()"
   ]
  },
  {
   "cell_type": "code",
   "execution_count": 4,
   "id": "c89c19c0",
   "metadata": {},
   "outputs": [
    {
     "data": {
      "text/plain": [
       "(5110, 12)"
      ]
     },
     "execution_count": 4,
     "metadata": {},
     "output_type": "execute_result"
    }
   ],
   "source": [
    "df_stroke.shape"
   ]
  },
  {
   "cell_type": "code",
   "execution_count": 22,
   "id": "e8a60e37",
   "metadata": {},
   "outputs": [
    {
     "name": "stdout",
     "output_type": "stream",
     "text": [
      "<class 'pandas.core.frame.DataFrame'>\n",
      "RangeIndex: 5110 entries, 0 to 5109\n",
      "Data columns (total 12 columns):\n",
      " #   Column             Non-Null Count  Dtype  \n",
      "---  ------             --------------  -----  \n",
      " 0   id                 5110 non-null   int64  \n",
      " 1   gender             5110 non-null   object \n",
      " 2   age                5110 non-null   float64\n",
      " 3   hypertension       5110 non-null   int64  \n",
      " 4   heart_disease      5110 non-null   int64  \n",
      " 5   ever_married       5110 non-null   object \n",
      " 6   work_type          5110 non-null   object \n",
      " 7   Residence_type     5110 non-null   object \n",
      " 8   avg_glucose_level  5110 non-null   float64\n",
      " 9   bmi                4909 non-null   float64\n",
      " 10  smoking_status     5110 non-null   object \n",
      " 11  stroke             5110 non-null   int64  \n",
      "dtypes: float64(3), int64(4), object(5)\n",
      "memory usage: 479.2+ KB\n"
     ]
    }
   ],
   "source": [
    "df_stroke.info()"
   ]
  },
  {
   "cell_type": "code",
   "execution_count": 23,
   "id": "aacc184d",
   "metadata": {},
   "outputs": [],
   "source": [
    "df_stroke.drop(\"id\",axis=1,inplace=True) #axis=1 is for column   "
   ]
  },
  {
   "cell_type": "code",
   "execution_count": 8,
   "id": "933f430a",
   "metadata": {},
   "outputs": [
    {
     "data": {
      "text/html": [
       "<div>\n",
       "<style scoped>\n",
       "    .dataframe tbody tr th:only-of-type {\n",
       "        vertical-align: middle;\n",
       "    }\n",
       "\n",
       "    .dataframe tbody tr th {\n",
       "        vertical-align: top;\n",
       "    }\n",
       "\n",
       "    .dataframe thead th {\n",
       "        text-align: right;\n",
       "    }\n",
       "</style>\n",
       "<table border=\"1\" class=\"dataframe\">\n",
       "  <thead>\n",
       "    <tr style=\"text-align: right;\">\n",
       "      <th></th>\n",
       "      <th>count</th>\n",
       "      <th>unique</th>\n",
       "      <th>top</th>\n",
       "      <th>freq</th>\n",
       "      <th>mean</th>\n",
       "      <th>std</th>\n",
       "      <th>min</th>\n",
       "      <th>25%</th>\n",
       "      <th>50%</th>\n",
       "      <th>75%</th>\n",
       "      <th>max</th>\n",
       "    </tr>\n",
       "  </thead>\n",
       "  <tbody>\n",
       "    <tr>\n",
       "      <th>gender</th>\n",
       "      <td>5110</td>\n",
       "      <td>3</td>\n",
       "      <td>Female</td>\n",
       "      <td>2994</td>\n",
       "      <td>NaN</td>\n",
       "      <td>NaN</td>\n",
       "      <td>NaN</td>\n",
       "      <td>NaN</td>\n",
       "      <td>NaN</td>\n",
       "      <td>NaN</td>\n",
       "      <td>NaN</td>\n",
       "    </tr>\n",
       "    <tr>\n",
       "      <th>age</th>\n",
       "      <td>5110.0</td>\n",
       "      <td>NaN</td>\n",
       "      <td>NaN</td>\n",
       "      <td>NaN</td>\n",
       "      <td>43.226614</td>\n",
       "      <td>22.612647</td>\n",
       "      <td>0.08</td>\n",
       "      <td>25.0</td>\n",
       "      <td>45.0</td>\n",
       "      <td>61.0</td>\n",
       "      <td>82.0</td>\n",
       "    </tr>\n",
       "    <tr>\n",
       "      <th>hypertension</th>\n",
       "      <td>5110.0</td>\n",
       "      <td>NaN</td>\n",
       "      <td>NaN</td>\n",
       "      <td>NaN</td>\n",
       "      <td>0.097456</td>\n",
       "      <td>0.296607</td>\n",
       "      <td>0.0</td>\n",
       "      <td>0.0</td>\n",
       "      <td>0.0</td>\n",
       "      <td>0.0</td>\n",
       "      <td>1.0</td>\n",
       "    </tr>\n",
       "    <tr>\n",
       "      <th>heart_disease</th>\n",
       "      <td>5110.0</td>\n",
       "      <td>NaN</td>\n",
       "      <td>NaN</td>\n",
       "      <td>NaN</td>\n",
       "      <td>0.054012</td>\n",
       "      <td>0.226063</td>\n",
       "      <td>0.0</td>\n",
       "      <td>0.0</td>\n",
       "      <td>0.0</td>\n",
       "      <td>0.0</td>\n",
       "      <td>1.0</td>\n",
       "    </tr>\n",
       "    <tr>\n",
       "      <th>ever_married</th>\n",
       "      <td>5110</td>\n",
       "      <td>2</td>\n",
       "      <td>Yes</td>\n",
       "      <td>3353</td>\n",
       "      <td>NaN</td>\n",
       "      <td>NaN</td>\n",
       "      <td>NaN</td>\n",
       "      <td>NaN</td>\n",
       "      <td>NaN</td>\n",
       "      <td>NaN</td>\n",
       "      <td>NaN</td>\n",
       "    </tr>\n",
       "    <tr>\n",
       "      <th>work_type</th>\n",
       "      <td>5110</td>\n",
       "      <td>5</td>\n",
       "      <td>Private</td>\n",
       "      <td>2925</td>\n",
       "      <td>NaN</td>\n",
       "      <td>NaN</td>\n",
       "      <td>NaN</td>\n",
       "      <td>NaN</td>\n",
       "      <td>NaN</td>\n",
       "      <td>NaN</td>\n",
       "      <td>NaN</td>\n",
       "    </tr>\n",
       "    <tr>\n",
       "      <th>Residence_type</th>\n",
       "      <td>5110</td>\n",
       "      <td>2</td>\n",
       "      <td>Urban</td>\n",
       "      <td>2596</td>\n",
       "      <td>NaN</td>\n",
       "      <td>NaN</td>\n",
       "      <td>NaN</td>\n",
       "      <td>NaN</td>\n",
       "      <td>NaN</td>\n",
       "      <td>NaN</td>\n",
       "      <td>NaN</td>\n",
       "    </tr>\n",
       "    <tr>\n",
       "      <th>avg_glucose_level</th>\n",
       "      <td>5110.0</td>\n",
       "      <td>NaN</td>\n",
       "      <td>NaN</td>\n",
       "      <td>NaN</td>\n",
       "      <td>106.147677</td>\n",
       "      <td>45.28356</td>\n",
       "      <td>55.12</td>\n",
       "      <td>77.245</td>\n",
       "      <td>91.885</td>\n",
       "      <td>114.09</td>\n",
       "      <td>271.74</td>\n",
       "    </tr>\n",
       "    <tr>\n",
       "      <th>bmi</th>\n",
       "      <td>4909.0</td>\n",
       "      <td>NaN</td>\n",
       "      <td>NaN</td>\n",
       "      <td>NaN</td>\n",
       "      <td>28.893237</td>\n",
       "      <td>7.854067</td>\n",
       "      <td>10.3</td>\n",
       "      <td>23.5</td>\n",
       "      <td>28.1</td>\n",
       "      <td>33.1</td>\n",
       "      <td>97.6</td>\n",
       "    </tr>\n",
       "    <tr>\n",
       "      <th>smoking_status</th>\n",
       "      <td>5110</td>\n",
       "      <td>4</td>\n",
       "      <td>never smoked</td>\n",
       "      <td>1892</td>\n",
       "      <td>NaN</td>\n",
       "      <td>NaN</td>\n",
       "      <td>NaN</td>\n",
       "      <td>NaN</td>\n",
       "      <td>NaN</td>\n",
       "      <td>NaN</td>\n",
       "      <td>NaN</td>\n",
       "    </tr>\n",
       "    <tr>\n",
       "      <th>stroke</th>\n",
       "      <td>5110.0</td>\n",
       "      <td>NaN</td>\n",
       "      <td>NaN</td>\n",
       "      <td>NaN</td>\n",
       "      <td>0.048728</td>\n",
       "      <td>0.21532</td>\n",
       "      <td>0.0</td>\n",
       "      <td>0.0</td>\n",
       "      <td>0.0</td>\n",
       "      <td>0.0</td>\n",
       "      <td>1.0</td>\n",
       "    </tr>\n",
       "  </tbody>\n",
       "</table>\n",
       "</div>"
      ],
      "text/plain": [
       "                    count unique           top  freq        mean        std  \\\n",
       "gender               5110      3        Female  2994         NaN        NaN   \n",
       "age                5110.0    NaN           NaN   NaN   43.226614  22.612647   \n",
       "hypertension       5110.0    NaN           NaN   NaN    0.097456   0.296607   \n",
       "heart_disease      5110.0    NaN           NaN   NaN    0.054012   0.226063   \n",
       "ever_married         5110      2           Yes  3353         NaN        NaN   \n",
       "work_type            5110      5       Private  2925         NaN        NaN   \n",
       "Residence_type       5110      2         Urban  2596         NaN        NaN   \n",
       "avg_glucose_level  5110.0    NaN           NaN   NaN  106.147677   45.28356   \n",
       "bmi                4909.0    NaN           NaN   NaN   28.893237   7.854067   \n",
       "smoking_status       5110      4  never smoked  1892         NaN        NaN   \n",
       "stroke             5110.0    NaN           NaN   NaN    0.048728    0.21532   \n",
       "\n",
       "                     min     25%     50%     75%     max  \n",
       "gender               NaN     NaN     NaN     NaN     NaN  \n",
       "age                 0.08    25.0    45.0    61.0    82.0  \n",
       "hypertension         0.0     0.0     0.0     0.0     1.0  \n",
       "heart_disease        0.0     0.0     0.0     0.0     1.0  \n",
       "ever_married         NaN     NaN     NaN     NaN     NaN  \n",
       "work_type            NaN     NaN     NaN     NaN     NaN  \n",
       "Residence_type       NaN     NaN     NaN     NaN     NaN  \n",
       "avg_glucose_level  55.12  77.245  91.885  114.09  271.74  \n",
       "bmi                 10.3    23.5    28.1    33.1    97.6  \n",
       "smoking_status       NaN     NaN     NaN     NaN     NaN  \n",
       "stroke               0.0     0.0     0.0     0.0     1.0  "
      ]
     },
     "execution_count": 8,
     "metadata": {},
     "output_type": "execute_result"
    }
   ],
   "source": [
    "df_stroke.describe(include='all').T"
   ]
  },
  {
   "cell_type": "code",
   "execution_count": 24,
   "id": "e171ef37",
   "metadata": {},
   "outputs": [
    {
     "data": {
      "image/png": "[encoded data removed]",
      "text/plain": [
       "<Figure size 1152x1152 with 8 Axes>"
      ]
     },
     "metadata": {
      "needs_background": "light"
     },
     "output_type": "display_data"
    }
   ],
   "source": [
    "# OBSERVATION:  From research, Heart Disease and Hypertension have close links to stroke but somehow \n",
    "# this is not obvious from dataset.   Gender = \"other could be a typo error\"\n",
    "\n",
    "# Plot an Initial View of Categorical Features\n",
    "\n",
    "fig,axes = plt.subplots(4,2,figsize = (16,16))\n",
    "sns.set_style('whitegrid')\n",
    "fig.suptitle(\"Count plot for various features\")\n",
    "\n",
    "sns.countplot(ax=axes[0,0],data=df_stroke,x='gender')\n",
    "sns.countplot(ax=axes[0,1],data=df_stroke,x='hypertension')\n",
    "sns.countplot(ax=axes[1,0],data=df_stroke,x='heart_disease')\n",
    "sns.countplot(ax=axes[1,1],data=df_stroke,x='ever_married')\n",
    "sns.countplot(ax=axes[2,0],data=df_stroke,x='work_type')\n",
    "sns.countplot(ax=axes[2,1],data=df_stroke,x='Residence_type')\n",
    "sns.countplot(ax=axes[3,0],data=df_stroke,x='smoking_status')\n",
    "sns.countplot(ax=axes[3,1],data=df_stroke,x='stroke')\n",
    "\n",
    "plt.show()\n"
   ]
  },
  {
   "cell_type": "code",
   "execution_count": 25,
   "id": "44816a69",
   "metadata": {},
   "outputs": [
    {
     "data": {
      "text/plain": [
       "<AxesSubplot:xlabel='age', ylabel='Density'>"
      ]
     },
     "execution_count": 25,
     "metadata": {},
     "output_type": "execute_result"
    },
    {
     "data": {
      "image/png": "[encoded data removed]",
      "text/plain": [
       "<Figure size 432x288 with 1 Axes>"
      ]
     },
     "metadata": {},
     "output_type": "display_data"
    }
   ],
   "source": [
    "sns.kdeplot(data=df_stroke, x=\"age\", hue=\"stroke\", multiple=\"stack\")"
   ]
  },
  {
   "cell_type": "code",
   "execution_count": 10,
   "id": "ecb198b2",
   "metadata": {},
   "outputs": [
    {
     "name": "stderr",
     "output_type": "stream",
     "text": [
      "C:\\Users\\yeong\\anaconda3\\envs\\IOD_9thMay2022\\lib\\site-packages\\seaborn\\distributions.py:2619: FutureWarning: `distplot` is a deprecated function and will be removed in a future version. Please adapt your code to use either `displot` (a figure-level function with similar flexibility) or `histplot` (an axes-level function for histograms).\n",
      "  warnings.warn(msg, FutureWarning)\n",
      "No artists with labels found to put in legend.  Note that artists whose label start with an underscore are ignored when legend() is called with no argument.\n"
     ]
    },
    {
     "data": {
      "image/png": "[encoded data removed]",
      "text/plain": [
       "<Figure size 432x288 with 1 Axes>"
      ]
     },
     "metadata": {},
     "output_type": "display_data"
    }
   ],
   "source": [
    "sns.distplot( df_stroke['age'], kde=False );\n",
    "plt.legend(loc = 'upper right')\n",
    "plt.xlabel('Age')\n",
    "plt.ylabel('Count')\n",
    "plt.show();"
   ]
  },
  {
   "cell_type": "code",
   "execution_count": 11,
   "id": "fc77c3a6",
   "metadata": {},
   "outputs": [],
   "source": [
    "#df_stroke['age'].plot(kind = 'box', figsize= (8,6) , title = 'box plot of age')"
   ]
  },
  {
   "cell_type": "code",
   "execution_count": 12,
   "id": "4f5052ab",
   "metadata": {},
   "outputs": [
    {
     "name": "stderr",
     "output_type": "stream",
     "text": [
      "No artists with labels found to put in legend.  Note that artists whose label start with an underscore are ignored when legend() is called with no argument.\n"
     ]
    },
    {
     "data": {
      "image/png": "[encoded data removed]",
      "text/plain": [
       "<Figure size 432x288 with 1 Axes>"
      ]
     },
     "metadata": {},
     "output_type": "display_data"
    }
   ],
   "source": [
    "sns.distplot( df_stroke['avg_glucose_level'], kde=False );\n",
    "plt.legend(loc = 'upper right')\n",
    "plt.xlabel('Ave glucose level')\n",
    "plt.ylabel('Count')\n",
    "plt.show();"
   ]
  },
  {
   "cell_type": "code",
   "execution_count": 13,
   "id": "858f302a",
   "metadata": {},
   "outputs": [
    {
     "data": {
      "text/plain": [
       "Female    2994\n",
       "Male      2115\n",
       "Other        1\n",
       "Name: gender, dtype: int64"
      ]
     },
     "execution_count": 13,
     "metadata": {},
     "output_type": "execute_result"
    }
   ],
   "source": [
    "df_stroke['gender'].value_counts()"
   ]
  },
  {
   "cell_type": "code",
   "execution_count": 12,
   "id": "aabc7ac0",
   "metadata": {},
   "outputs": [
    {
     "data": {
      "text/html": [
       "<div>\n",
       "<style scoped>\n",
       "    .dataframe tbody tr th:only-of-type {\n",
       "        vertical-align: middle;\n",
       "    }\n",
       "\n",
       "    .dataframe tbody tr th {\n",
       "        vertical-align: top;\n",
       "    }\n",
       "\n",
       "    .dataframe thead th {\n",
       "        text-align: right;\n",
       "    }\n",
       "</style>\n",
       "<table border=\"1\" class=\"dataframe\">\n",
       "  <thead>\n",
       "    <tr style=\"text-align: right;\">\n",
       "      <th></th>\n",
       "      <th>gender</th>\n",
       "      <th>age</th>\n",
       "      <th>hypertension</th>\n",
       "      <th>heart_disease</th>\n",
       "      <th>ever_married</th>\n",
       "      <th>work_type</th>\n",
       "      <th>Residence_type</th>\n",
       "      <th>avg_glucose_level</th>\n",
       "      <th>bmi</th>\n",
       "      <th>smoking_status</th>\n",
       "      <th>stroke</th>\n",
       "    </tr>\n",
       "  </thead>\n",
       "  <tbody>\n",
       "    <tr>\n",
       "      <th>3116</th>\n",
       "      <td>Other</td>\n",
       "      <td>26.0</td>\n",
       "      <td>0</td>\n",
       "      <td>0</td>\n",
       "      <td>No</td>\n",
       "      <td>Private</td>\n",
       "      <td>Rural</td>\n",
       "      <td>143.33</td>\n",
       "      <td>22.4</td>\n",
       "      <td>formerly smoked</td>\n",
       "      <td>0</td>\n",
       "    </tr>\n",
       "  </tbody>\n",
       "</table>\n",
       "</div>"
      ],
      "text/plain": [
       "     gender   age  hypertension  heart_disease ever_married work_type  \\\n",
       "3116  Other  26.0             0              0           No   Private   \n",
       "\n",
       "     Residence_type  avg_glucose_level   bmi   smoking_status  stroke  \n",
       "3116          Rural             143.33  22.4  formerly smoked       0  "
      ]
     },
     "execution_count": 12,
     "metadata": {},
     "output_type": "execute_result"
    }
   ],
   "source": [
    "df_stroke[df_stroke['gender']== 'Other']"
   ]
  },
  {
   "cell_type": "code",
   "execution_count": 13,
   "id": "4ac8078a",
   "metadata": {},
   "outputs": [],
   "source": [
    "# OBSERVATION: There is one row with gender \"other\". This could be a typo error. Assumed it is a Male\n",
    "\n",
    "mask= df_stroke['gender']== 'Other'\n",
    "df_stroke.loc[mask, 'gender'] = 'Male'"
   ]
  },
  {
   "cell_type": "code",
   "execution_count": 15,
   "id": "62ff8a70",
   "metadata": {},
   "outputs": [
    {
     "data": {
      "text/plain": [
       "never smoked       1892\n",
       "Unknown            1544\n",
       "formerly smoked     885\n",
       "smokes              789\n",
       "Name: smoking_status, dtype: int64"
      ]
     },
     "execution_count": 15,
     "metadata": {},
     "output_type": "execute_result"
    }
   ],
   "source": [
    "df_stroke['smoking_status'].value_counts()"
   ]
  },
  {
   "cell_type": "code",
   "execution_count": 14,
   "id": "5e38252f",
   "metadata": {},
   "outputs": [
    {
     "data": {
      "image/png": "[encoded data removed]",
      "text/plain": [
       "<Figure size 720x432 with 1 Axes>"
      ]
     },
     "metadata": {},
     "output_type": "display_data"
    }
   ],
   "source": [
    "df_stroke.plot(kind='scatter', x='age', y='smoking_status', figsize=(10, 6), color='darkblue')\n",
    "\n",
    "plt.title('Scatter plot of Smoking Status and Age')\n",
    "plt.xlabel('Age')\n",
    "plt.ylabel('Smoking Status')\n",
    "plt.show()"
   ]
  },
  {
   "cell_type": "code",
   "execution_count": 16,
   "id": "8f80a089",
   "metadata": {},
   "outputs": [],
   "source": [
    "# OBSERVATION: Children 10 years and below should be categorised as \"NEVER SMOKED\"\n",
    "\n",
    "mask= df_stroke['age']<= 10\n",
    "df_stroke.loc[mask, 'smoking_status'] = 'never smoked'"
   ]
  },
  {
   "cell_type": "code",
   "execution_count": 17,
   "id": "f3666239",
   "metadata": {},
   "outputs": [
    {
     "data": {
      "image/png": "[encoded data removed]",
      "text/plain": [
       "<Figure size 720x432 with 1 Axes>"
      ]
     },
     "metadata": {},
     "output_type": "display_data"
    }
   ],
   "source": [
    "df_stroke.plot(kind='scatter', x='age', y='smoking_status', figsize=(10, 6), color='darkblue')\n",
    "\n",
    "plt.title('Scatter plot of Smoking Status and Age')\n",
    "plt.xlabel('Age')\n",
    "plt.ylabel('Smoking Status')\n",
    "plt.show()\n",
    "\n",
    "# Children 10 years and below should be categorised as \"NEVER SMOKED\""
   ]
  },
  {
   "cell_type": "code",
   "execution_count": 16,
   "id": "f047adf3",
   "metadata": {},
   "outputs": [
    {
     "data": {
      "text/plain": [
       "Urban    2596\n",
       "Rural    2514\n",
       "Name: Residence_type, dtype: int64"
      ]
     },
     "execution_count": 16,
     "metadata": {},
     "output_type": "execute_result"
    }
   ],
   "source": [
    "df_stroke['Residence_type'].value_counts()"
   ]
  },
  {
   "cell_type": "code",
   "execution_count": 19,
   "id": "8f201fb8",
   "metadata": {},
   "outputs": [
    {
     "data": {
      "text/plain": [
       "Private          2925\n",
       "Self-employed     819\n",
       "children          687\n",
       "Govt_job          657\n",
       "Never_worked       22\n",
       "Name: work_type, dtype: int64"
      ]
     },
     "execution_count": 19,
     "metadata": {},
     "output_type": "execute_result"
    }
   ],
   "source": [
    "df_stroke['work_type'].value_counts()"
   ]
  },
  {
   "cell_type": "code",
   "execution_count": 20,
   "id": "f10507df",
   "metadata": {},
   "outputs": [
    {
     "data": {
      "text/plain": [
       "Yes    3353\n",
       "No     1757\n",
       "Name: ever_married, dtype: int64"
      ]
     },
     "execution_count": 20,
     "metadata": {},
     "output_type": "execute_result"
    }
   ],
   "source": [
    "df_stroke['ever_married'].value_counts()"
   ]
  },
  {
   "cell_type": "code",
   "execution_count": 21,
   "id": "db45e661",
   "metadata": {},
   "outputs": [
    {
     "data": {
      "text/plain": [
       "gender                 0\n",
       "age                    0\n",
       "hypertension           0\n",
       "heart_disease          0\n",
       "ever_married           0\n",
       "work_type              0\n",
       "Residence_type         0\n",
       "avg_glucose_level      0\n",
       "bmi                  201\n",
       "smoking_status         0\n",
       "stroke                 0\n",
       "dtype: int64"
      ]
     },
     "execution_count": 21,
     "metadata": {},
     "output_type": "execute_result"
    }
   ],
   "source": [
    "df_stroke.isnull().sum()"
   ]
  },
  {
   "cell_type": "code",
   "execution_count": 17,
   "id": "80f8f606",
   "metadata": {},
   "outputs": [],
   "source": [
    "# Transform Gender, Ever_married and Residence_type to Numerical \n",
    "\n",
    "df_stroke = pd.read_csv(stroke, converters={'gender': lambda x: int(x == 'Male'), 'ever_married': lambda x: int(x == 'Yes'),\n",
    "                                     'Residence_type': lambda x: int(x == 'Urban') })\n",
    "\n",
    "# Gender =Male = 1, Female= 0,  Ever-married= yes is 1, no is 0, Residence type= Urban is 1, Rural is 0"
   ]
  },
  {
   "cell_type": "code",
   "execution_count": 18,
   "id": "88b76710",
   "metadata": {},
   "outputs": [
    {
     "data": {
      "text/html": [
       "<div>\n",
       "<style scoped>\n",
       "    .dataframe tbody tr th:only-of-type {\n",
       "        vertical-align: middle;\n",
       "    }\n",
       "\n",
       "    .dataframe tbody tr th {\n",
       "        vertical-align: top;\n",
       "    }\n",
       "\n",
       "    .dataframe thead th {\n",
       "        text-align: right;\n",
       "    }\n",
       "</style>\n",
       "<table border=\"1\" class=\"dataframe\">\n",
       "  <thead>\n",
       "    <tr style=\"text-align: right;\">\n",
       "      <th></th>\n",
       "      <th>id</th>\n",
       "      <th>gender</th>\n",
       "      <th>age</th>\n",
       "      <th>hypertension</th>\n",
       "      <th>heart_disease</th>\n",
       "      <th>ever_married</th>\n",
       "      <th>Residence_type</th>\n",
       "      <th>avg_glucose_level</th>\n",
       "      <th>bmi</th>\n",
       "      <th>stroke</th>\n",
       "      <th>work_Govt_job</th>\n",
       "      <th>work_Never_worked</th>\n",
       "      <th>work_Private</th>\n",
       "      <th>work_Self-employed</th>\n",
       "      <th>work_children</th>\n",
       "      <th>smoke_Unknown</th>\n",
       "      <th>smoke_formerly smoked</th>\n",
       "      <th>smoke_never smoked</th>\n",
       "      <th>smoke_smokes</th>\n",
       "    </tr>\n",
       "  </thead>\n",
       "  <tbody>\n",
       "    <tr>\n",
       "      <th>0</th>\n",
       "      <td>9046</td>\n",
       "      <td>1</td>\n",
       "      <td>67.0</td>\n",
       "      <td>0</td>\n",
       "      <td>1</td>\n",
       "      <td>1</td>\n",
       "      <td>1</td>\n",
       "      <td>228.69</td>\n",
       "      <td>36.6</td>\n",
       "      <td>1</td>\n",
       "      <td>0</td>\n",
       "      <td>0</td>\n",
       "      <td>1</td>\n",
       "      <td>0</td>\n",
       "      <td>0</td>\n",
       "      <td>0</td>\n",
       "      <td>1</td>\n",
       "      <td>0</td>\n",
       "      <td>0</td>\n",
       "    </tr>\n",
       "    <tr>\n",
       "      <th>1</th>\n",
       "      <td>51676</td>\n",
       "      <td>0</td>\n",
       "      <td>61.0</td>\n",
       "      <td>0</td>\n",
       "      <td>0</td>\n",
       "      <td>1</td>\n",
       "      <td>0</td>\n",
       "      <td>202.21</td>\n",
       "      <td>NaN</td>\n",
       "      <td>1</td>\n",
       "      <td>0</td>\n",
       "      <td>0</td>\n",
       "      <td>0</td>\n",
       "      <td>1</td>\n",
       "      <td>0</td>\n",
       "      <td>0</td>\n",
       "      <td>0</td>\n",
       "      <td>1</td>\n",
       "      <td>0</td>\n",
       "    </tr>\n",
       "    <tr>\n",
       "      <th>2</th>\n",
       "      <td>31112</td>\n",
       "      <td>1</td>\n",
       "      <td>80.0</td>\n",
       "      <td>0</td>\n",
       "      <td>1</td>\n",
       "      <td>1</td>\n",
       "      <td>0</td>\n",
       "      <td>105.92</td>\n",
       "      <td>32.5</td>\n",
       "      <td>1</td>\n",
       "      <td>0</td>\n",
       "      <td>0</td>\n",
       "      <td>1</td>\n",
       "      <td>0</td>\n",
       "      <td>0</td>\n",
       "      <td>0</td>\n",
       "      <td>0</td>\n",
       "      <td>1</td>\n",
       "      <td>0</td>\n",
       "    </tr>\n",
       "    <tr>\n",
       "      <th>3</th>\n",
       "      <td>60182</td>\n",
       "      <td>0</td>\n",
       "      <td>49.0</td>\n",
       "      <td>0</td>\n",
       "      <td>0</td>\n",
       "      <td>1</td>\n",
       "      <td>1</td>\n",
       "      <td>171.23</td>\n",
       "      <td>34.4</td>\n",
       "      <td>1</td>\n",
       "      <td>0</td>\n",
       "      <td>0</td>\n",
       "      <td>1</td>\n",
       "      <td>0</td>\n",
       "      <td>0</td>\n",
       "      <td>0</td>\n",
       "      <td>0</td>\n",
       "      <td>0</td>\n",
       "      <td>1</td>\n",
       "    </tr>\n",
       "    <tr>\n",
       "      <th>4</th>\n",
       "      <td>1665</td>\n",
       "      <td>0</td>\n",
       "      <td>79.0</td>\n",
       "      <td>1</td>\n",
       "      <td>0</td>\n",
       "      <td>1</td>\n",
       "      <td>0</td>\n",
       "      <td>174.12</td>\n",
       "      <td>24.0</td>\n",
       "      <td>1</td>\n",
       "      <td>0</td>\n",
       "      <td>0</td>\n",
       "      <td>0</td>\n",
       "      <td>1</td>\n",
       "      <td>0</td>\n",
       "      <td>0</td>\n",
       "      <td>0</td>\n",
       "      <td>1</td>\n",
       "      <td>0</td>\n",
       "    </tr>\n",
       "  </tbody>\n",
       "</table>\n",
       "</div>"
      ],
      "text/plain": [
       "      id  gender   age  hypertension  heart_disease  ever_married  \\\n",
       "0   9046       1  67.0             0              1             1   \n",
       "1  51676       0  61.0             0              0             1   \n",
       "2  31112       1  80.0             0              1             1   \n",
       "3  60182       0  49.0             0              0             1   \n",
       "4   1665       0  79.0             1              0             1   \n",
       "\n",
       "   Residence_type  avg_glucose_level   bmi  stroke  work_Govt_job  \\\n",
       "0               1             228.69  36.6       1              0   \n",
       "1               0             202.21   NaN       1              0   \n",
       "2               0             105.92  32.5       1              0   \n",
       "3               1             171.23  34.4       1              0   \n",
       "4               0             174.12  24.0       1              0   \n",
       "\n",
       "   work_Never_worked  work_Private  work_Self-employed  work_children  \\\n",
       "0                  0             1                   0              0   \n",
       "1                  0             0                   1              0   \n",
       "2                  0             1                   0              0   \n",
       "3                  0             1                   0              0   \n",
       "4                  0             0                   1              0   \n",
       "\n",
       "   smoke_Unknown  smoke_formerly smoked  smoke_never smoked  smoke_smokes  \n",
       "0              0                      1                   0             0  \n",
       "1              0                      0                   1             0  \n",
       "2              0                      0                   1             0  \n",
       "3              0                      0                   0             1  \n",
       "4              0                      0                   1             0  "
      ]
     },
     "execution_count": 18,
     "metadata": {},
     "output_type": "execute_result"
    }
   ],
   "source": [
    "# Convert categorical variables to dummy variables with 1 hot encoding\n",
    "\n",
    "df = pd.get_dummies(data = df_stroke, columns = ['work_type', 'smoking_status'], \n",
    "                                      prefix = ['work', 'smoke'])\n",
    "df.head()"
   ]
  },
  {
   "cell_type": "code",
   "execution_count": 24,
   "id": "69d298a5",
   "metadata": {},
   "outputs": [],
   "source": [
    "df.drop(\"id\",axis=1,inplace=True) #axis=1 is for column   "
   ]
  },
  {
   "cell_type": "code",
   "execution_count": 25,
   "id": "bbd0793e",
   "metadata": {},
   "outputs": [],
   "source": [
    "# AFTER ONE HOT ENCODING, DROP ONE FEATURE FROM \"SMOKING_STATUS\" (FROM 4 to 3), AND ONE FROM WORK_TYPE (FROM 5 to 4)\n",
    "\n",
    "df.drop([\"smoke_Unknown\", \"work_Govt_job\"],axis=1,inplace=True) #axis=1 is for column  "
   ]
  },
  {
   "cell_type": "code",
   "execution_count": 26,
   "id": "a5afb7d5",
   "metadata": {},
   "outputs": [],
   "source": [
    "# shift target column 'stroke' to last position\n",
    "last_column = df.pop('stroke')\n",
    "  \n",
    "# insert column using insert(position,column_name,first_column) function\n",
    "df.insert(0, 'stroke', last_column)"
   ]
  },
  {
   "cell_type": "code",
   "execution_count": 27,
   "id": "fda49514",
   "metadata": {},
   "outputs": [
    {
     "data": {
      "text/html": [
       "<div>\n",
       "<style scoped>\n",
       "    .dataframe tbody tr th:only-of-type {\n",
       "        vertical-align: middle;\n",
       "    }\n",
       "\n",
       "    .dataframe tbody tr th {\n",
       "        vertical-align: top;\n",
       "    }\n",
       "\n",
       "    .dataframe thead th {\n",
       "        text-align: right;\n",
       "    }\n",
       "</style>\n",
       "<table border=\"1\" class=\"dataframe\">\n",
       "  <thead>\n",
       "    <tr style=\"text-align: right;\">\n",
       "      <th></th>\n",
       "      <th>stroke</th>\n",
       "      <th>gender</th>\n",
       "      <th>age</th>\n",
       "      <th>hypertension</th>\n",
       "      <th>heart_disease</th>\n",
       "      <th>ever_married</th>\n",
       "      <th>Residence_type</th>\n",
       "      <th>avg_glucose_level</th>\n",
       "      <th>bmi</th>\n",
       "      <th>work_Never_worked</th>\n",
       "      <th>work_Private</th>\n",
       "      <th>work_Self-employed</th>\n",
       "      <th>work_children</th>\n",
       "      <th>smoke_formerly smoked</th>\n",
       "      <th>smoke_never smoked</th>\n",
       "      <th>smoke_smokes</th>\n",
       "    </tr>\n",
       "  </thead>\n",
       "  <tbody>\n",
       "    <tr>\n",
       "      <th>1</th>\n",
       "      <td>1</td>\n",
       "      <td>0</td>\n",
       "      <td>61.0</td>\n",
       "      <td>0</td>\n",
       "      <td>0</td>\n",
       "      <td>1</td>\n",
       "      <td>0</td>\n",
       "      <td>202.21</td>\n",
       "      <td>NaN</td>\n",
       "      <td>0</td>\n",
       "      <td>0</td>\n",
       "      <td>1</td>\n",
       "      <td>0</td>\n",
       "      <td>0</td>\n",
       "      <td>1</td>\n",
       "      <td>0</td>\n",
       "    </tr>\n",
       "    <tr>\n",
       "      <th>8</th>\n",
       "      <td>1</td>\n",
       "      <td>0</td>\n",
       "      <td>59.0</td>\n",
       "      <td>0</td>\n",
       "      <td>0</td>\n",
       "      <td>1</td>\n",
       "      <td>0</td>\n",
       "      <td>76.15</td>\n",
       "      <td>NaN</td>\n",
       "      <td>0</td>\n",
       "      <td>1</td>\n",
       "      <td>0</td>\n",
       "      <td>0</td>\n",
       "      <td>0</td>\n",
       "      <td>0</td>\n",
       "      <td>0</td>\n",
       "    </tr>\n",
       "    <tr>\n",
       "      <th>13</th>\n",
       "      <td>1</td>\n",
       "      <td>1</td>\n",
       "      <td>78.0</td>\n",
       "      <td>0</td>\n",
       "      <td>1</td>\n",
       "      <td>1</td>\n",
       "      <td>1</td>\n",
       "      <td>219.84</td>\n",
       "      <td>NaN</td>\n",
       "      <td>0</td>\n",
       "      <td>1</td>\n",
       "      <td>0</td>\n",
       "      <td>0</td>\n",
       "      <td>0</td>\n",
       "      <td>0</td>\n",
       "      <td>0</td>\n",
       "    </tr>\n",
       "    <tr>\n",
       "      <th>19</th>\n",
       "      <td>1</td>\n",
       "      <td>1</td>\n",
       "      <td>57.0</td>\n",
       "      <td>0</td>\n",
       "      <td>1</td>\n",
       "      <td>0</td>\n",
       "      <td>1</td>\n",
       "      <td>217.08</td>\n",
       "      <td>NaN</td>\n",
       "      <td>0</td>\n",
       "      <td>0</td>\n",
       "      <td>0</td>\n",
       "      <td>0</td>\n",
       "      <td>0</td>\n",
       "      <td>0</td>\n",
       "      <td>0</td>\n",
       "    </tr>\n",
       "    <tr>\n",
       "      <th>27</th>\n",
       "      <td>1</td>\n",
       "      <td>1</td>\n",
       "      <td>58.0</td>\n",
       "      <td>0</td>\n",
       "      <td>0</td>\n",
       "      <td>1</td>\n",
       "      <td>0</td>\n",
       "      <td>189.84</td>\n",
       "      <td>NaN</td>\n",
       "      <td>0</td>\n",
       "      <td>1</td>\n",
       "      <td>0</td>\n",
       "      <td>0</td>\n",
       "      <td>0</td>\n",
       "      <td>0</td>\n",
       "      <td>0</td>\n",
       "    </tr>\n",
       "    <tr>\n",
       "      <th>...</th>\n",
       "      <td>...</td>\n",
       "      <td>...</td>\n",
       "      <td>...</td>\n",
       "      <td>...</td>\n",
       "      <td>...</td>\n",
       "      <td>...</td>\n",
       "      <td>...</td>\n",
       "      <td>...</td>\n",
       "      <td>...</td>\n",
       "      <td>...</td>\n",
       "      <td>...</td>\n",
       "      <td>...</td>\n",
       "      <td>...</td>\n",
       "      <td>...</td>\n",
       "      <td>...</td>\n",
       "      <td>...</td>\n",
       "    </tr>\n",
       "    <tr>\n",
       "      <th>5039</th>\n",
       "      <td>0</td>\n",
       "      <td>1</td>\n",
       "      <td>41.0</td>\n",
       "      <td>0</td>\n",
       "      <td>0</td>\n",
       "      <td>0</td>\n",
       "      <td>0</td>\n",
       "      <td>70.15</td>\n",
       "      <td>NaN</td>\n",
       "      <td>0</td>\n",
       "      <td>1</td>\n",
       "      <td>0</td>\n",
       "      <td>0</td>\n",
       "      <td>1</td>\n",
       "      <td>0</td>\n",
       "      <td>0</td>\n",
       "    </tr>\n",
       "    <tr>\n",
       "      <th>5048</th>\n",
       "      <td>0</td>\n",
       "      <td>1</td>\n",
       "      <td>40.0</td>\n",
       "      <td>0</td>\n",
       "      <td>0</td>\n",
       "      <td>1</td>\n",
       "      <td>1</td>\n",
       "      <td>191.15</td>\n",
       "      <td>NaN</td>\n",
       "      <td>0</td>\n",
       "      <td>1</td>\n",
       "      <td>0</td>\n",
       "      <td>0</td>\n",
       "      <td>0</td>\n",
       "      <td>0</td>\n",
       "      <td>1</td>\n",
       "    </tr>\n",
       "    <tr>\n",
       "      <th>5093</th>\n",
       "      <td>0</td>\n",
       "      <td>0</td>\n",
       "      <td>45.0</td>\n",
       "      <td>1</td>\n",
       "      <td>0</td>\n",
       "      <td>1</td>\n",
       "      <td>0</td>\n",
       "      <td>95.02</td>\n",
       "      <td>NaN</td>\n",
       "      <td>0</td>\n",
       "      <td>0</td>\n",
       "      <td>0</td>\n",
       "      <td>0</td>\n",
       "      <td>0</td>\n",
       "      <td>0</td>\n",
       "      <td>1</td>\n",
       "    </tr>\n",
       "    <tr>\n",
       "      <th>5099</th>\n",
       "      <td>0</td>\n",
       "      <td>1</td>\n",
       "      <td>40.0</td>\n",
       "      <td>0</td>\n",
       "      <td>0</td>\n",
       "      <td>1</td>\n",
       "      <td>0</td>\n",
       "      <td>83.94</td>\n",
       "      <td>NaN</td>\n",
       "      <td>0</td>\n",
       "      <td>1</td>\n",
       "      <td>0</td>\n",
       "      <td>0</td>\n",
       "      <td>0</td>\n",
       "      <td>0</td>\n",
       "      <td>1</td>\n",
       "    </tr>\n",
       "    <tr>\n",
       "      <th>5105</th>\n",
       "      <td>0</td>\n",
       "      <td>0</td>\n",
       "      <td>80.0</td>\n",
       "      <td>1</td>\n",
       "      <td>0</td>\n",
       "      <td>1</td>\n",
       "      <td>1</td>\n",
       "      <td>83.75</td>\n",
       "      <td>NaN</td>\n",
       "      <td>0</td>\n",
       "      <td>1</td>\n",
       "      <td>0</td>\n",
       "      <td>0</td>\n",
       "      <td>0</td>\n",
       "      <td>1</td>\n",
       "      <td>0</td>\n",
       "    </tr>\n",
       "  </tbody>\n",
       "</table>\n",
       "<p>201 rows × 16 columns</p>\n",
       "</div>"
      ],
      "text/plain": [
       "      stroke  gender   age  hypertension  heart_disease  ever_married  \\\n",
       "1          1       0  61.0             0              0             1   \n",
       "8          1       0  59.0             0              0             1   \n",
       "13         1       1  78.0             0              1             1   \n",
       "19         1       1  57.0             0              1             0   \n",
       "27         1       1  58.0             0              0             1   \n",
       "...      ...     ...   ...           ...            ...           ...   \n",
       "5039       0       1  41.0             0              0             0   \n",
       "5048       0       1  40.0             0              0             1   \n",
       "5093       0       0  45.0             1              0             1   \n",
       "5099       0       1  40.0             0              0             1   \n",
       "5105       0       0  80.0             1              0             1   \n",
       "\n",
       "      Residence_type  avg_glucose_level  bmi  work_Never_worked  work_Private  \\\n",
       "1                  0             202.21  NaN                  0             0   \n",
       "8                  0              76.15  NaN                  0             1   \n",
       "13                 1             219.84  NaN                  0             1   \n",
       "19                 1             217.08  NaN                  0             0   \n",
       "27                 0             189.84  NaN                  0             1   \n",
       "...              ...                ...  ...                ...           ...   \n",
       "5039               0              70.15  NaN                  0             1   \n",
       "5048               1             191.15  NaN                  0             1   \n",
       "5093               0              95.02  NaN                  0             0   \n",
       "5099               0              83.94  NaN                  0             1   \n",
       "5105               1              83.75  NaN                  0             1   \n",
       "\n",
       "      work_Self-employed  work_children  smoke_formerly smoked  \\\n",
       "1                      1              0                      0   \n",
       "8                      0              0                      0   \n",
       "13                     0              0                      0   \n",
       "19                     0              0                      0   \n",
       "27                     0              0                      0   \n",
       "...                  ...            ...                    ...   \n",
       "5039                   0              0                      1   \n",
       "5048                   0              0                      0   \n",
       "5093                   0              0                      0   \n",
       "5099                   0              0                      0   \n",
       "5105                   0              0                      0   \n",
       "\n",
       "      smoke_never smoked  smoke_smokes  \n",
       "1                      1             0  \n",
       "8                      0             0  \n",
       "13                     0             0  \n",
       "19                     0             0  \n",
       "27                     0             0  \n",
       "...                  ...           ...  \n",
       "5039                   0             0  \n",
       "5048                   0             1  \n",
       "5093                   0             1  \n",
       "5099                   0             1  \n",
       "5105                   1             0  \n",
       "\n",
       "[201 rows x 16 columns]"
      ]
     },
     "execution_count": 27,
     "metadata": {},
     "output_type": "execute_result"
    }
   ],
   "source": [
    "df[df['bmi'].isna()] "
   ]
  },
  {
   "cell_type": "code",
   "execution_count": 28,
   "id": "63d61e43",
   "metadata": {},
   "outputs": [],
   "source": [
    "# FILL MISSING VALUES IN BMI using KNNImputer\n",
    "\n",
    "# creating series form weight column\n",
    "gfg = pd.Series(df['bmi'])\n",
    "  \n",
    "# convert series to numpy array\n",
    "new=gfg.to_numpy()\n",
    "\n",
    "# reshape array\n",
    "test=new.reshape(-1, 1)\n",
    "\n",
    "# impute missing values in BMI\n",
    "from sklearn.impute import KNNImputer\n",
    "\n",
    "imputer = KNNImputer(n_neighbors=5, weights ='distance')\n",
    "new = imputer.fit_transform(test)\n",
    "\n",
    "df['bmi']= new\n",
    "\n",
    "#Each missing feature is imputed using values from n_neighbors nearest neighbors that have a value for the feature.\n",
    "#https://scikit-learn.org/stable/modules/impute.html#knnimpute"
   ]
  },
  {
   "cell_type": "code",
   "execution_count": 29,
   "id": "579a6318",
   "metadata": {},
   "outputs": [
    {
     "data": {
      "text/html": [
       "<div>\n",
       "<style scoped>\n",
       "    .dataframe tbody tr th:only-of-type {\n",
       "        vertical-align: middle;\n",
       "    }\n",
       "\n",
       "    .dataframe tbody tr th {\n",
       "        vertical-align: top;\n",
       "    }\n",
       "\n",
       "    .dataframe thead th {\n",
       "        text-align: right;\n",
       "    }\n",
       "</style>\n",
       "<table border=\"1\" class=\"dataframe\">\n",
       "  <thead>\n",
       "    <tr style=\"text-align: right;\">\n",
       "      <th></th>\n",
       "      <th>stroke</th>\n",
       "      <th>gender</th>\n",
       "      <th>age</th>\n",
       "      <th>hypertension</th>\n",
       "      <th>heart_disease</th>\n",
       "      <th>ever_married</th>\n",
       "      <th>Residence_type</th>\n",
       "      <th>avg_glucose_level</th>\n",
       "      <th>bmi</th>\n",
       "      <th>work_Never_worked</th>\n",
       "      <th>work_Private</th>\n",
       "      <th>work_Self-employed</th>\n",
       "      <th>work_children</th>\n",
       "      <th>smoke_formerly smoked</th>\n",
       "      <th>smoke_never smoked</th>\n",
       "      <th>smoke_smokes</th>\n",
       "    </tr>\n",
       "  </thead>\n",
       "  <tbody>\n",
       "  </tbody>\n",
       "</table>\n",
       "</div>"
      ],
      "text/plain": [
       "Empty DataFrame\n",
       "Columns: [stroke, gender, age, hypertension, heart_disease, ever_married, Residence_type, avg_glucose_level, bmi, work_Never_worked, work_Private, work_Self-employed, work_children, smoke_formerly smoked, smoke_never smoked, smoke_smokes]\n",
       "Index: []"
      ]
     },
     "execution_count": 29,
     "metadata": {},
     "output_type": "execute_result"
    }
   ],
   "source": [
    "df[df['bmi'].isna()] "
   ]
  },
  {
   "cell_type": "code",
   "execution_count": 30,
   "id": "52dc6a57",
   "metadata": {},
   "outputs": [
    {
     "data": {
      "text/html": [
       "<div>\n",
       "<style scoped>\n",
       "    .dataframe tbody tr th:only-of-type {\n",
       "        vertical-align: middle;\n",
       "    }\n",
       "\n",
       "    .dataframe tbody tr th {\n",
       "        vertical-align: top;\n",
       "    }\n",
       "\n",
       "    .dataframe thead th {\n",
       "        text-align: right;\n",
       "    }\n",
       "</style>\n",
       "<table border=\"1\" class=\"dataframe\">\n",
       "  <thead>\n",
       "    <tr style=\"text-align: right;\">\n",
       "      <th></th>\n",
       "      <th>stroke</th>\n",
       "      <th>gender</th>\n",
       "      <th>age</th>\n",
       "      <th>hypertension</th>\n",
       "      <th>heart_disease</th>\n",
       "      <th>ever_married</th>\n",
       "      <th>Residence_type</th>\n",
       "      <th>avg_glucose_level</th>\n",
       "      <th>bmi</th>\n",
       "      <th>work_Never_worked</th>\n",
       "      <th>work_Private</th>\n",
       "      <th>work_Self-employed</th>\n",
       "      <th>work_children</th>\n",
       "      <th>smoke_formerly smoked</th>\n",
       "      <th>smoke_never smoked</th>\n",
       "      <th>smoke_smokes</th>\n",
       "    </tr>\n",
       "  </thead>\n",
       "  <tbody>\n",
       "    <tr>\n",
       "      <th>0</th>\n",
       "      <td>1</td>\n",
       "      <td>1</td>\n",
       "      <td>67.0</td>\n",
       "      <td>0</td>\n",
       "      <td>1</td>\n",
       "      <td>1</td>\n",
       "      <td>1</td>\n",
       "      <td>228.69</td>\n",
       "      <td>36.600000</td>\n",
       "      <td>0</td>\n",
       "      <td>1</td>\n",
       "      <td>0</td>\n",
       "      <td>0</td>\n",
       "      <td>1</td>\n",
       "      <td>0</td>\n",
       "      <td>0</td>\n",
       "    </tr>\n",
       "    <tr>\n",
       "      <th>1</th>\n",
       "      <td>1</td>\n",
       "      <td>0</td>\n",
       "      <td>61.0</td>\n",
       "      <td>0</td>\n",
       "      <td>0</td>\n",
       "      <td>1</td>\n",
       "      <td>0</td>\n",
       "      <td>202.21</td>\n",
       "      <td>28.893237</td>\n",
       "      <td>0</td>\n",
       "      <td>0</td>\n",
       "      <td>1</td>\n",
       "      <td>0</td>\n",
       "      <td>0</td>\n",
       "      <td>1</td>\n",
       "      <td>0</td>\n",
       "    </tr>\n",
       "    <tr>\n",
       "      <th>2</th>\n",
       "      <td>1</td>\n",
       "      <td>1</td>\n",
       "      <td>80.0</td>\n",
       "      <td>0</td>\n",
       "      <td>1</td>\n",
       "      <td>1</td>\n",
       "      <td>0</td>\n",
       "      <td>105.92</td>\n",
       "      <td>32.500000</td>\n",
       "      <td>0</td>\n",
       "      <td>1</td>\n",
       "      <td>0</td>\n",
       "      <td>0</td>\n",
       "      <td>0</td>\n",
       "      <td>1</td>\n",
       "      <td>0</td>\n",
       "    </tr>\n",
       "    <tr>\n",
       "      <th>3</th>\n",
       "      <td>1</td>\n",
       "      <td>0</td>\n",
       "      <td>49.0</td>\n",
       "      <td>0</td>\n",
       "      <td>0</td>\n",
       "      <td>1</td>\n",
       "      <td>1</td>\n",
       "      <td>171.23</td>\n",
       "      <td>34.400000</td>\n",
       "      <td>0</td>\n",
       "      <td>1</td>\n",
       "      <td>0</td>\n",
       "      <td>0</td>\n",
       "      <td>0</td>\n",
       "      <td>0</td>\n",
       "      <td>1</td>\n",
       "    </tr>\n",
       "    <tr>\n",
       "      <th>4</th>\n",
       "      <td>1</td>\n",
       "      <td>0</td>\n",
       "      <td>79.0</td>\n",
       "      <td>1</td>\n",
       "      <td>0</td>\n",
       "      <td>1</td>\n",
       "      <td>0</td>\n",
       "      <td>174.12</td>\n",
       "      <td>24.000000</td>\n",
       "      <td>0</td>\n",
       "      <td>0</td>\n",
       "      <td>1</td>\n",
       "      <td>0</td>\n",
       "      <td>0</td>\n",
       "      <td>1</td>\n",
       "      <td>0</td>\n",
       "    </tr>\n",
       "  </tbody>\n",
       "</table>\n",
       "</div>"
      ],
      "text/plain": [
       "   stroke  gender   age  hypertension  heart_disease  ever_married  \\\n",
       "0       1       1  67.0             0              1             1   \n",
       "1       1       0  61.0             0              0             1   \n",
       "2       1       1  80.0             0              1             1   \n",
       "3       1       0  49.0             0              0             1   \n",
       "4       1       0  79.0             1              0             1   \n",
       "\n",
       "   Residence_type  avg_glucose_level        bmi  work_Never_worked  \\\n",
       "0               1             228.69  36.600000                  0   \n",
       "1               0             202.21  28.893237                  0   \n",
       "2               0             105.92  32.500000                  0   \n",
       "3               1             171.23  34.400000                  0   \n",
       "4               0             174.12  24.000000                  0   \n",
       "\n",
       "   work_Private  work_Self-employed  work_children  smoke_formerly smoked  \\\n",
       "0             1                   0              0                      1   \n",
       "1             0                   1              0                      0   \n",
       "2             1                   0              0                      0   \n",
       "3             1                   0              0                      0   \n",
       "4             0                   1              0                      0   \n",
       "\n",
       "   smoke_never smoked  smoke_smokes  \n",
       "0                   0             0  \n",
       "1                   1             0  \n",
       "2                   1             0  \n",
       "3                   0             1  \n",
       "4                   1             0  "
      ]
     },
     "execution_count": 30,
     "metadata": {},
     "output_type": "execute_result"
    }
   ],
   "source": [
    "df.head()"
   ]
  },
  {
   "cell_type": "code",
   "execution_count": 31,
   "id": "233f5163",
   "metadata": {},
   "outputs": [
    {
     "data": {
      "text/plain": [
       "0"
      ]
     },
     "execution_count": 31,
     "metadata": {},
     "output_type": "execute_result"
    }
   ],
   "source": [
    "df.isnull().sum().sum()"
   ]
  },
  {
   "cell_type": "code",
   "execution_count": 32,
   "id": "e10c1e45",
   "metadata": {},
   "outputs": [
    {
     "data": {
      "text/html": [
       "<div>\n",
       "<style scoped>\n",
       "    .dataframe tbody tr th:only-of-type {\n",
       "        vertical-align: middle;\n",
       "    }\n",
       "\n",
       "    .dataframe tbody tr th {\n",
       "        vertical-align: top;\n",
       "    }\n",
       "\n",
       "    .dataframe thead th {\n",
       "        text-align: right;\n",
       "    }\n",
       "</style>\n",
       "<table border=\"1\" class=\"dataframe\">\n",
       "  <thead>\n",
       "    <tr style=\"text-align: right;\">\n",
       "      <th></th>\n",
       "      <th>count</th>\n",
       "      <th>mean</th>\n",
       "      <th>std</th>\n",
       "      <th>min</th>\n",
       "      <th>25%</th>\n",
       "      <th>50%</th>\n",
       "      <th>75%</th>\n",
       "      <th>max</th>\n",
       "    </tr>\n",
       "  </thead>\n",
       "  <tbody>\n",
       "    <tr>\n",
       "      <th>stroke</th>\n",
       "      <td>5110.0</td>\n",
       "      <td>0.048728</td>\n",
       "      <td>0.215320</td>\n",
       "      <td>0.00</td>\n",
       "      <td>0.000</td>\n",
       "      <td>0.000</td>\n",
       "      <td>0.00</td>\n",
       "      <td>1.00</td>\n",
       "    </tr>\n",
       "    <tr>\n",
       "      <th>gender</th>\n",
       "      <td>5110.0</td>\n",
       "      <td>0.413894</td>\n",
       "      <td>0.492578</td>\n",
       "      <td>0.00</td>\n",
       "      <td>0.000</td>\n",
       "      <td>0.000</td>\n",
       "      <td>1.00</td>\n",
       "      <td>1.00</td>\n",
       "    </tr>\n",
       "    <tr>\n",
       "      <th>age</th>\n",
       "      <td>5110.0</td>\n",
       "      <td>43.226614</td>\n",
       "      <td>22.612647</td>\n",
       "      <td>0.08</td>\n",
       "      <td>25.000</td>\n",
       "      <td>45.000</td>\n",
       "      <td>61.00</td>\n",
       "      <td>82.00</td>\n",
       "    </tr>\n",
       "    <tr>\n",
       "      <th>hypertension</th>\n",
       "      <td>5110.0</td>\n",
       "      <td>0.097456</td>\n",
       "      <td>0.296607</td>\n",
       "      <td>0.00</td>\n",
       "      <td>0.000</td>\n",
       "      <td>0.000</td>\n",
       "      <td>0.00</td>\n",
       "      <td>1.00</td>\n",
       "    </tr>\n",
       "    <tr>\n",
       "      <th>heart_disease</th>\n",
       "      <td>5110.0</td>\n",
       "      <td>0.054012</td>\n",
       "      <td>0.226063</td>\n",
       "      <td>0.00</td>\n",
       "      <td>0.000</td>\n",
       "      <td>0.000</td>\n",
       "      <td>0.00</td>\n",
       "      <td>1.00</td>\n",
       "    </tr>\n",
       "    <tr>\n",
       "      <th>ever_married</th>\n",
       "      <td>5110.0</td>\n",
       "      <td>0.656164</td>\n",
       "      <td>0.475034</td>\n",
       "      <td>0.00</td>\n",
       "      <td>0.000</td>\n",
       "      <td>1.000</td>\n",
       "      <td>1.00</td>\n",
       "      <td>1.00</td>\n",
       "    </tr>\n",
       "    <tr>\n",
       "      <th>Residence_type</th>\n",
       "      <td>5110.0</td>\n",
       "      <td>0.508023</td>\n",
       "      <td>0.499985</td>\n",
       "      <td>0.00</td>\n",
       "      <td>0.000</td>\n",
       "      <td>1.000</td>\n",
       "      <td>1.00</td>\n",
       "      <td>1.00</td>\n",
       "    </tr>\n",
       "    <tr>\n",
       "      <th>avg_glucose_level</th>\n",
       "      <td>5110.0</td>\n",
       "      <td>106.147677</td>\n",
       "      <td>45.283560</td>\n",
       "      <td>55.12</td>\n",
       "      <td>77.245</td>\n",
       "      <td>91.885</td>\n",
       "      <td>114.09</td>\n",
       "      <td>271.74</td>\n",
       "    </tr>\n",
       "    <tr>\n",
       "      <th>bmi</th>\n",
       "      <td>5110.0</td>\n",
       "      <td>28.893237</td>\n",
       "      <td>7.698018</td>\n",
       "      <td>10.30</td>\n",
       "      <td>23.800</td>\n",
       "      <td>28.400</td>\n",
       "      <td>32.80</td>\n",
       "      <td>97.60</td>\n",
       "    </tr>\n",
       "    <tr>\n",
       "      <th>work_Never_worked</th>\n",
       "      <td>5110.0</td>\n",
       "      <td>0.004305</td>\n",
       "      <td>0.065480</td>\n",
       "      <td>0.00</td>\n",
       "      <td>0.000</td>\n",
       "      <td>0.000</td>\n",
       "      <td>0.00</td>\n",
       "      <td>1.00</td>\n",
       "    </tr>\n",
       "    <tr>\n",
       "      <th>work_Private</th>\n",
       "      <td>5110.0</td>\n",
       "      <td>0.572407</td>\n",
       "      <td>0.494778</td>\n",
       "      <td>0.00</td>\n",
       "      <td>0.000</td>\n",
       "      <td>1.000</td>\n",
       "      <td>1.00</td>\n",
       "      <td>1.00</td>\n",
       "    </tr>\n",
       "    <tr>\n",
       "      <th>work_Self-employed</th>\n",
       "      <td>5110.0</td>\n",
       "      <td>0.160274</td>\n",
       "      <td>0.366896</td>\n",
       "      <td>0.00</td>\n",
       "      <td>0.000</td>\n",
       "      <td>0.000</td>\n",
       "      <td>0.00</td>\n",
       "      <td>1.00</td>\n",
       "    </tr>\n",
       "    <tr>\n",
       "      <th>work_children</th>\n",
       "      <td>5110.0</td>\n",
       "      <td>0.134442</td>\n",
       "      <td>0.341160</td>\n",
       "      <td>0.00</td>\n",
       "      <td>0.000</td>\n",
       "      <td>0.000</td>\n",
       "      <td>0.00</td>\n",
       "      <td>1.00</td>\n",
       "    </tr>\n",
       "    <tr>\n",
       "      <th>smoke_formerly smoked</th>\n",
       "      <td>5110.0</td>\n",
       "      <td>0.173190</td>\n",
       "      <td>0.378448</td>\n",
       "      <td>0.00</td>\n",
       "      <td>0.000</td>\n",
       "      <td>0.000</td>\n",
       "      <td>0.00</td>\n",
       "      <td>1.00</td>\n",
       "    </tr>\n",
       "    <tr>\n",
       "      <th>smoke_never smoked</th>\n",
       "      <td>5110.0</td>\n",
       "      <td>0.370254</td>\n",
       "      <td>0.482920</td>\n",
       "      <td>0.00</td>\n",
       "      <td>0.000</td>\n",
       "      <td>0.000</td>\n",
       "      <td>1.00</td>\n",
       "      <td>1.00</td>\n",
       "    </tr>\n",
       "    <tr>\n",
       "      <th>smoke_smokes</th>\n",
       "      <td>5110.0</td>\n",
       "      <td>0.154403</td>\n",
       "      <td>0.361370</td>\n",
       "      <td>0.00</td>\n",
       "      <td>0.000</td>\n",
       "      <td>0.000</td>\n",
       "      <td>0.00</td>\n",
       "      <td>1.00</td>\n",
       "    </tr>\n",
       "  </tbody>\n",
       "</table>\n",
       "</div>"
      ],
      "text/plain": [
       "                        count        mean        std    min     25%     50%  \\\n",
       "stroke                 5110.0    0.048728   0.215320   0.00   0.000   0.000   \n",
       "gender                 5110.0    0.413894   0.492578   0.00   0.000   0.000   \n",
       "age                    5110.0   43.226614  22.612647   0.08  25.000  45.000   \n",
       "hypertension           5110.0    0.097456   0.296607   0.00   0.000   0.000   \n",
       "heart_disease          5110.0    0.054012   0.226063   0.00   0.000   0.000   \n",
       "ever_married           5110.0    0.656164   0.475034   0.00   0.000   1.000   \n",
       "Residence_type         5110.0    0.508023   0.499985   0.00   0.000   1.000   \n",
       "avg_glucose_level      5110.0  106.147677  45.283560  55.12  77.245  91.885   \n",
       "bmi                    5110.0   28.893237   7.698018  10.30  23.800  28.400   \n",
       "work_Never_worked      5110.0    0.004305   0.065480   0.00   0.000   0.000   \n",
       "work_Private           5110.0    0.572407   0.494778   0.00   0.000   1.000   \n",
       "work_Self-employed     5110.0    0.160274   0.366896   0.00   0.000   0.000   \n",
       "work_children          5110.0    0.134442   0.341160   0.00   0.000   0.000   \n",
       "smoke_formerly smoked  5110.0    0.173190   0.378448   0.00   0.000   0.000   \n",
       "smoke_never smoked     5110.0    0.370254   0.482920   0.00   0.000   0.000   \n",
       "smoke_smokes           5110.0    0.154403   0.361370   0.00   0.000   0.000   \n",
       "\n",
       "                          75%     max  \n",
       "stroke                   0.00    1.00  \n",
       "gender                   1.00    1.00  \n",
       "age                     61.00   82.00  \n",
       "hypertension             0.00    1.00  \n",
       "heart_disease            0.00    1.00  \n",
       "ever_married             1.00    1.00  \n",
       "Residence_type           1.00    1.00  \n",
       "avg_glucose_level      114.09  271.74  \n",
       "bmi                     32.80   97.60  \n",
       "work_Never_worked        0.00    1.00  \n",
       "work_Private             1.00    1.00  \n",
       "work_Self-employed       0.00    1.00  \n",
       "work_children            0.00    1.00  \n",
       "smoke_formerly smoked    0.00    1.00  \n",
       "smoke_never smoked       1.00    1.00  \n",
       "smoke_smokes             0.00    1.00  "
      ]
     },
     "execution_count": 32,
     "metadata": {},
     "output_type": "execute_result"
    }
   ],
   "source": [
    "df.describe().T"
   ]
  },
  {
   "cell_type": "code",
   "execution_count": 33,
   "id": "6a195b77",
   "metadata": {},
   "outputs": [
    {
     "data": {
      "text/html": [
       "<div>\n",
       "<style scoped>\n",
       "    .dataframe tbody tr th:only-of-type {\n",
       "        vertical-align: middle;\n",
       "    }\n",
       "\n",
       "    .dataframe tbody tr th {\n",
       "        vertical-align: top;\n",
       "    }\n",
       "\n",
       "    .dataframe thead th {\n",
       "        text-align: right;\n",
       "    }\n",
       "</style>\n",
       "<table border=\"1\" class=\"dataframe\">\n",
       "  <thead>\n",
       "    <tr style=\"text-align: right;\">\n",
       "      <th></th>\n",
       "      <th>min</th>\n",
       "      <th>max</th>\n",
       "    </tr>\n",
       "  </thead>\n",
       "  <tbody>\n",
       "    <tr>\n",
       "      <th>stroke</th>\n",
       "      <td>0.00</td>\n",
       "      <td>1.00</td>\n",
       "    </tr>\n",
       "    <tr>\n",
       "      <th>gender</th>\n",
       "      <td>0.00</td>\n",
       "      <td>1.00</td>\n",
       "    </tr>\n",
       "    <tr>\n",
       "      <th>age</th>\n",
       "      <td>0.08</td>\n",
       "      <td>82.00</td>\n",
       "    </tr>\n",
       "    <tr>\n",
       "      <th>hypertension</th>\n",
       "      <td>0.00</td>\n",
       "      <td>1.00</td>\n",
       "    </tr>\n",
       "    <tr>\n",
       "      <th>heart_disease</th>\n",
       "      <td>0.00</td>\n",
       "      <td>1.00</td>\n",
       "    </tr>\n",
       "    <tr>\n",
       "      <th>ever_married</th>\n",
       "      <td>0.00</td>\n",
       "      <td>1.00</td>\n",
       "    </tr>\n",
       "    <tr>\n",
       "      <th>Residence_type</th>\n",
       "      <td>0.00</td>\n",
       "      <td>1.00</td>\n",
       "    </tr>\n",
       "    <tr>\n",
       "      <th>avg_glucose_level</th>\n",
       "      <td>55.12</td>\n",
       "      <td>271.74</td>\n",
       "    </tr>\n",
       "    <tr>\n",
       "      <th>bmi</th>\n",
       "      <td>10.30</td>\n",
       "      <td>97.60</td>\n",
       "    </tr>\n",
       "    <tr>\n",
       "      <th>work_Never_worked</th>\n",
       "      <td>0.00</td>\n",
       "      <td>1.00</td>\n",
       "    </tr>\n",
       "    <tr>\n",
       "      <th>work_Private</th>\n",
       "      <td>0.00</td>\n",
       "      <td>1.00</td>\n",
       "    </tr>\n",
       "    <tr>\n",
       "      <th>work_Self-employed</th>\n",
       "      <td>0.00</td>\n",
       "      <td>1.00</td>\n",
       "    </tr>\n",
       "    <tr>\n",
       "      <th>work_children</th>\n",
       "      <td>0.00</td>\n",
       "      <td>1.00</td>\n",
       "    </tr>\n",
       "    <tr>\n",
       "      <th>smoke_formerly smoked</th>\n",
       "      <td>0.00</td>\n",
       "      <td>1.00</td>\n",
       "    </tr>\n",
       "    <tr>\n",
       "      <th>smoke_never smoked</th>\n",
       "      <td>0.00</td>\n",
       "      <td>1.00</td>\n",
       "    </tr>\n",
       "    <tr>\n",
       "      <th>smoke_smokes</th>\n",
       "      <td>0.00</td>\n",
       "      <td>1.00</td>\n",
       "    </tr>\n",
       "  </tbody>\n",
       "</table>\n",
       "</div>"
      ],
      "text/plain": [
       "                         min     max\n",
       "stroke                  0.00    1.00\n",
       "gender                  0.00    1.00\n",
       "age                     0.08   82.00\n",
       "hypertension            0.00    1.00\n",
       "heart_disease           0.00    1.00\n",
       "ever_married            0.00    1.00\n",
       "Residence_type          0.00    1.00\n",
       "avg_glucose_level      55.12  271.74\n",
       "bmi                    10.30   97.60\n",
       "work_Never_worked       0.00    1.00\n",
       "work_Private            0.00    1.00\n",
       "work_Self-employed      0.00    1.00\n",
       "work_children           0.00    1.00\n",
       "smoke_formerly smoked   0.00    1.00\n",
       "smoke_never smoked      0.00    1.00\n",
       "smoke_smokes            0.00    1.00"
      ]
     },
     "execution_count": 33,
     "metadata": {},
     "output_type": "execute_result"
    }
   ],
   "source": [
    "df.describe().T[['min', 'max']]"
   ]
  },
  {
   "cell_type": "code",
   "execution_count": 34,
   "id": "3696148a",
   "metadata": {},
   "outputs": [
    {
     "name": "stdout",
     "output_type": "stream",
     "text": [
      "<class 'pandas.core.frame.DataFrame'>\n",
      "RangeIndex: 5110 entries, 0 to 5109\n",
      "Data columns (total 16 columns):\n",
      " #   Column                 Non-Null Count  Dtype  \n",
      "---  ------                 --------------  -----  \n",
      " 0   stroke                 5110 non-null   int64  \n",
      " 1   gender                 5110 non-null   int64  \n",
      " 2   age                    5110 non-null   float64\n",
      " 3   hypertension           5110 non-null   int64  \n",
      " 4   heart_disease          5110 non-null   int64  \n",
      " 5   ever_married           5110 non-null   int64  \n",
      " 6   Residence_type         5110 non-null   int64  \n",
      " 7   avg_glucose_level      5110 non-null   float64\n",
      " 8   bmi                    5110 non-null   float64\n",
      " 9   work_Never_worked      5110 non-null   uint8  \n",
      " 10  work_Private           5110 non-null   uint8  \n",
      " 11  work_Self-employed     5110 non-null   uint8  \n",
      " 12  work_children          5110 non-null   uint8  \n",
      " 13  smoke_formerly smoked  5110 non-null   uint8  \n",
      " 14  smoke_never smoked     5110 non-null   uint8  \n",
      " 15  smoke_smokes           5110 non-null   uint8  \n",
      "dtypes: float64(3), int64(6), uint8(7)\n",
      "memory usage: 394.4 KB\n"
     ]
    }
   ],
   "source": [
    "df.info()"
   ]
  },
  {
   "cell_type": "code",
   "execution_count": 35,
   "id": "d4cc3835",
   "metadata": {},
   "outputs": [
    {
     "data": {
      "text/html": [
       "<div>\n",
       "<style scoped>\n",
       "    .dataframe tbody tr th:only-of-type {\n",
       "        vertical-align: middle;\n",
       "    }\n",
       "\n",
       "    .dataframe tbody tr th {\n",
       "        vertical-align: top;\n",
       "    }\n",
       "\n",
       "    .dataframe thead th {\n",
       "        text-align: right;\n",
       "    }\n",
       "</style>\n",
       "<table border=\"1\" class=\"dataframe\">\n",
       "  <thead>\n",
       "    <tr style=\"text-align: right;\">\n",
       "      <th></th>\n",
       "      <th>stroke</th>\n",
       "      <th>gender</th>\n",
       "      <th>age</th>\n",
       "      <th>hypertension</th>\n",
       "      <th>heart_disease</th>\n",
       "      <th>ever_married</th>\n",
       "      <th>Residence_type</th>\n",
       "      <th>avg_glucose_level</th>\n",
       "      <th>bmi</th>\n",
       "      <th>work_Never_worked</th>\n",
       "      <th>work_Private</th>\n",
       "      <th>work_Self-employed</th>\n",
       "      <th>work_children</th>\n",
       "      <th>smoke_formerly smoked</th>\n",
       "      <th>smoke_never smoked</th>\n",
       "      <th>smoke_smokes</th>\n",
       "    </tr>\n",
       "  </thead>\n",
       "  <tbody>\n",
       "    <tr>\n",
       "      <th>stroke</th>\n",
       "      <td>1.000000</td>\n",
       "      <td>0.009117</td>\n",
       "      <td>0.245257</td>\n",
       "      <td>0.127904</td>\n",
       "      <td>0.134914</td>\n",
       "      <td>0.108340</td>\n",
       "      <td>0.015458</td>\n",
       "      <td>0.131945</td>\n",
       "      <td>0.038947</td>\n",
       "      <td>-0.014882</td>\n",
       "      <td>0.011888</td>\n",
       "      <td>0.062168</td>\n",
       "      <td>-0.083869</td>\n",
       "      <td>0.064556</td>\n",
       "      <td>-0.004129</td>\n",
       "      <td>0.008939</td>\n",
       "    </tr>\n",
       "    <tr>\n",
       "      <th>gender</th>\n",
       "      <td>0.009117</td>\n",
       "      <td>1.000000</td>\n",
       "      <td>-0.027623</td>\n",
       "      <td>0.021275</td>\n",
       "      <td>0.085717</td>\n",
       "      <td>-0.029936</td>\n",
       "      <td>-0.005937</td>\n",
       "      <td>0.054580</td>\n",
       "      <td>-0.025464</td>\n",
       "      <td>0.011496</td>\n",
       "      <td>-0.032639</td>\n",
       "      <td>-0.025971</td>\n",
       "      <td>0.089283</td>\n",
       "      <td>0.042738</td>\n",
       "      <td>-0.098813</td>\n",
       "      <td>0.011477</td>\n",
       "    </tr>\n",
       "    <tr>\n",
       "      <th>age</th>\n",
       "      <td>0.245257</td>\n",
       "      <td>-0.027623</td>\n",
       "      <td>1.000000</td>\n",
       "      <td>0.276398</td>\n",
       "      <td>0.263796</td>\n",
       "      <td>0.679125</td>\n",
       "      <td>0.014180</td>\n",
       "      <td>0.238171</td>\n",
       "      <td>0.325942</td>\n",
       "      <td>-0.078653</td>\n",
       "      <td>0.116534</td>\n",
       "      <td>0.327989</td>\n",
       "      <td>-0.634215</td>\n",
       "      <td>0.236897</td>\n",
       "      <td>0.119307</td>\n",
       "      <td>0.073133</td>\n",
       "    </tr>\n",
       "    <tr>\n",
       "      <th>hypertension</th>\n",
       "      <td>0.127904</td>\n",
       "      <td>0.021275</td>\n",
       "      <td>0.276398</td>\n",
       "      <td>1.000000</td>\n",
       "      <td>0.108306</td>\n",
       "      <td>0.164243</td>\n",
       "      <td>-0.007913</td>\n",
       "      <td>0.174474</td>\n",
       "      <td>0.160189</td>\n",
       "      <td>-0.021608</td>\n",
       "      <td>-0.005413</td>\n",
       "      <td>0.115442</td>\n",
       "      <td>-0.129506</td>\n",
       "      <td>0.058853</td>\n",
       "      <td>0.065063</td>\n",
       "      <td>0.031240</td>\n",
       "    </tr>\n",
       "    <tr>\n",
       "      <th>heart_disease</th>\n",
       "      <td>0.134914</td>\n",
       "      <td>0.085717</td>\n",
       "      <td>0.263796</td>\n",
       "      <td>0.108306</td>\n",
       "      <td>1.000000</td>\n",
       "      <td>0.114644</td>\n",
       "      <td>0.003092</td>\n",
       "      <td>0.161857</td>\n",
       "      <td>0.038899</td>\n",
       "      <td>-0.015712</td>\n",
       "      <td>0.000027</td>\n",
       "      <td>0.086760</td>\n",
       "      <td>-0.091634</td>\n",
       "      <td>0.066804</td>\n",
       "      <td>-0.021856</td>\n",
       "      <td>0.044049</td>\n",
       "    </tr>\n",
       "    <tr>\n",
       "      <th>ever_married</th>\n",
       "      <td>0.108340</td>\n",
       "      <td>-0.029936</td>\n",
       "      <td>0.679125</td>\n",
       "      <td>0.164243</td>\n",
       "      <td>0.114644</td>\n",
       "      <td>1.000000</td>\n",
       "      <td>0.006261</td>\n",
       "      <td>0.155068</td>\n",
       "      <td>0.335705</td>\n",
       "      <td>-0.090838</td>\n",
       "      <td>0.153830</td>\n",
       "      <td>0.192716</td>\n",
       "      <td>-0.544441</td>\n",
       "      <td>0.171256</td>\n",
       "      <td>0.102845</td>\n",
       "      <td>0.105226</td>\n",
       "    </tr>\n",
       "    <tr>\n",
       "      <th>Residence_type</th>\n",
       "      <td>0.015458</td>\n",
       "      <td>-0.005937</td>\n",
       "      <td>0.014180</td>\n",
       "      <td>-0.007913</td>\n",
       "      <td>0.003092</td>\n",
       "      <td>0.006261</td>\n",
       "      <td>1.000000</td>\n",
       "      <td>-0.004946</td>\n",
       "      <td>-0.000120</td>\n",
       "      <td>0.022859</td>\n",
       "      <td>-0.018173</td>\n",
       "      <td>0.010594</td>\n",
       "      <td>-0.002309</td>\n",
       "      <td>0.007654</td>\n",
       "      <td>-0.024466</td>\n",
       "      <td>0.027266</td>\n",
       "    </tr>\n",
       "    <tr>\n",
       "      <th>avg_glucose_level</th>\n",
       "      <td>0.131945</td>\n",
       "      <td>0.054580</td>\n",
       "      <td>0.238171</td>\n",
       "      <td>0.174474</td>\n",
       "      <td>0.161857</td>\n",
       "      <td>0.155068</td>\n",
       "      <td>-0.004946</td>\n",
       "      <td>1.000000</td>\n",
       "      <td>0.168751</td>\n",
       "      <td>-0.014675</td>\n",
       "      <td>0.016588</td>\n",
       "      <td>0.062694</td>\n",
       "      <td>-0.102250</td>\n",
       "      <td>0.068111</td>\n",
       "      <td>0.023885</td>\n",
       "      <td>0.017646</td>\n",
       "    </tr>\n",
       "    <tr>\n",
       "      <th>bmi</th>\n",
       "      <td>0.038947</td>\n",
       "      <td>-0.025464</td>\n",
       "      <td>0.325942</td>\n",
       "      <td>0.160189</td>\n",
       "      <td>0.038899</td>\n",
       "      <td>0.335705</td>\n",
       "      <td>-0.000120</td>\n",
       "      <td>0.168751</td>\n",
       "      <td>1.000000</td>\n",
       "      <td>-0.028600</td>\n",
       "      <td>0.203884</td>\n",
       "      <td>0.070822</td>\n",
       "      <td>-0.442843</td>\n",
       "      <td>0.104257</td>\n",
       "      <td>0.106220</td>\n",
       "      <td>0.085579</td>\n",
       "    </tr>\n",
       "    <tr>\n",
       "      <th>work_Never_worked</th>\n",
       "      <td>-0.014882</td>\n",
       "      <td>0.011496</td>\n",
       "      <td>-0.078653</td>\n",
       "      <td>-0.021608</td>\n",
       "      <td>-0.015712</td>\n",
       "      <td>-0.090838</td>\n",
       "      <td>0.022859</td>\n",
       "      <td>-0.014675</td>\n",
       "      <td>-0.028600</td>\n",
       "      <td>1.000000</td>\n",
       "      <td>-0.076081</td>\n",
       "      <td>-0.028728</td>\n",
       "      <td>-0.025915</td>\n",
       "      <td>-0.030095</td>\n",
       "      <td>0.036238</td>\n",
       "      <td>-0.028099</td>\n",
       "    </tr>\n",
       "    <tr>\n",
       "      <th>work_Private</th>\n",
       "      <td>0.011888</td>\n",
       "      <td>-0.032639</td>\n",
       "      <td>0.116534</td>\n",
       "      <td>-0.005413</td>\n",
       "      <td>0.000027</td>\n",
       "      <td>0.153830</td>\n",
       "      <td>-0.018173</td>\n",
       "      <td>0.016588</td>\n",
       "      <td>0.203884</td>\n",
       "      <td>-0.076081</td>\n",
       "      <td>1.000000</td>\n",
       "      <td>-0.505475</td>\n",
       "      <td>-0.455992</td>\n",
       "      <td>0.025526</td>\n",
       "      <td>0.104860</td>\n",
       "      <td>0.100025</td>\n",
       "    </tr>\n",
       "    <tr>\n",
       "      <th>work_Self-employed</th>\n",
       "      <td>0.062168</td>\n",
       "      <td>-0.025971</td>\n",
       "      <td>0.327989</td>\n",
       "      <td>0.115442</td>\n",
       "      <td>0.086760</td>\n",
       "      <td>0.192716</td>\n",
       "      <td>0.010594</td>\n",
       "      <td>0.062694</td>\n",
       "      <td>0.070822</td>\n",
       "      <td>-0.028728</td>\n",
       "      <td>-0.505475</td>\n",
       "      <td>1.000000</td>\n",
       "      <td>-0.172180</td>\n",
       "      <td>0.093260</td>\n",
       "      <td>0.030668</td>\n",
       "      <td>-0.003626</td>\n",
       "    </tr>\n",
       "    <tr>\n",
       "      <th>work_children</th>\n",
       "      <td>-0.083869</td>\n",
       "      <td>0.089283</td>\n",
       "      <td>-0.634215</td>\n",
       "      <td>-0.129506</td>\n",
       "      <td>-0.091634</td>\n",
       "      <td>-0.544441</td>\n",
       "      <td>-0.002309</td>\n",
       "      <td>-0.102250</td>\n",
       "      <td>-0.442843</td>\n",
       "      <td>-0.025915</td>\n",
       "      <td>-0.455992</td>\n",
       "      <td>-0.172180</td>\n",
       "      <td>1.000000</td>\n",
       "      <td>-0.160668</td>\n",
       "      <td>-0.238041</td>\n",
       "      <td>-0.165234</td>\n",
       "    </tr>\n",
       "    <tr>\n",
       "      <th>smoke_formerly smoked</th>\n",
       "      <td>0.064556</td>\n",
       "      <td>0.042738</td>\n",
       "      <td>0.236897</td>\n",
       "      <td>0.058853</td>\n",
       "      <td>0.066804</td>\n",
       "      <td>0.171256</td>\n",
       "      <td>0.007654</td>\n",
       "      <td>0.068111</td>\n",
       "      <td>0.104257</td>\n",
       "      <td>-0.030095</td>\n",
       "      <td>0.025526</td>\n",
       "      <td>0.093260</td>\n",
       "      <td>-0.160668</td>\n",
       "      <td>1.000000</td>\n",
       "      <td>-0.350934</td>\n",
       "      <td>-0.195571</td>\n",
       "    </tr>\n",
       "    <tr>\n",
       "      <th>smoke_never smoked</th>\n",
       "      <td>-0.004129</td>\n",
       "      <td>-0.098813</td>\n",
       "      <td>0.119307</td>\n",
       "      <td>0.065063</td>\n",
       "      <td>-0.021856</td>\n",
       "      <td>0.102845</td>\n",
       "      <td>-0.024466</td>\n",
       "      <td>0.023885</td>\n",
       "      <td>0.106220</td>\n",
       "      <td>0.036238</td>\n",
       "      <td>0.104860</td>\n",
       "      <td>0.030668</td>\n",
       "      <td>-0.238041</td>\n",
       "      <td>-0.350934</td>\n",
       "      <td>1.000000</td>\n",
       "      <td>-0.327653</td>\n",
       "    </tr>\n",
       "    <tr>\n",
       "      <th>smoke_smokes</th>\n",
       "      <td>0.008939</td>\n",
       "      <td>0.011477</td>\n",
       "      <td>0.073133</td>\n",
       "      <td>0.031240</td>\n",
       "      <td>0.044049</td>\n",
       "      <td>0.105226</td>\n",
       "      <td>0.027266</td>\n",
       "      <td>0.017646</td>\n",
       "      <td>0.085579</td>\n",
       "      <td>-0.028099</td>\n",
       "      <td>0.100025</td>\n",
       "      <td>-0.003626</td>\n",
       "      <td>-0.165234</td>\n",
       "      <td>-0.195571</td>\n",
       "      <td>-0.327653</td>\n",
       "      <td>1.000000</td>\n",
       "    </tr>\n",
       "  </tbody>\n",
       "</table>\n",
       "</div>"
      ],
      "text/plain": [
       "                         stroke    gender       age  hypertension  \\\n",
       "stroke                 1.000000  0.009117  0.245257      0.127904   \n",
       "gender                 0.009117  1.000000 -0.027623      0.021275   \n",
       "age                    0.245257 -0.027623  1.000000      0.276398   \n",
       "hypertension           0.127904  0.021275  0.276398      1.000000   \n",
       "heart_disease          0.134914  0.085717  0.263796      0.108306   \n",
       "ever_married           0.108340 -0.029936  0.679125      0.164243   \n",
       "Residence_type         0.015458 -0.005937  0.014180     -0.007913   \n",
       "avg_glucose_level      0.131945  0.054580  0.238171      0.174474   \n",
       "bmi                    0.038947 -0.025464  0.325942      0.160189   \n",
       "work_Never_worked     -0.014882  0.011496 -0.078653     -0.021608   \n",
       "work_Private           0.011888 -0.032639  0.116534     -0.005413   \n",
       "work_Self-employed     0.062168 -0.025971  0.327989      0.115442   \n",
       "work_children         -0.083869  0.089283 -0.634215     -0.129506   \n",
       "smoke_formerly smoked  0.064556  0.042738  0.236897      0.058853   \n",
       "smoke_never smoked    -0.004129 -0.098813  0.119307      0.065063   \n",
       "smoke_smokes           0.008939  0.011477  0.073133      0.031240   \n",
       "\n",
       "                       heart_disease  ever_married  Residence_type  \\\n",
       "stroke                      0.134914      0.108340        0.015458   \n",
       "gender                      0.085717     -0.029936       -0.005937   \n",
       "age                         0.263796      0.679125        0.014180   \n",
       "hypertension                0.108306      0.164243       -0.007913   \n",
       "heart_disease               1.000000      0.114644        0.003092   \n",
       "ever_married                0.114644      1.000000        0.006261   \n",
       "Residence_type              0.003092      0.006261        1.000000   \n",
       "avg_glucose_level           0.161857      0.155068       -0.004946   \n",
       "bmi                         0.038899      0.335705       -0.000120   \n",
       "work_Never_worked          -0.015712     -0.090838        0.022859   \n",
       "work_Private                0.000027      0.153830       -0.018173   \n",
       "work_Self-employed          0.086760      0.192716        0.010594   \n",
       "work_children              -0.091634     -0.544441       -0.002309   \n",
       "smoke_formerly smoked       0.066804      0.171256        0.007654   \n",
       "smoke_never smoked         -0.021856      0.102845       -0.024466   \n",
       "smoke_smokes                0.044049      0.105226        0.027266   \n",
       "\n",
       "                       avg_glucose_level       bmi  work_Never_worked  \\\n",
       "stroke                          0.131945  0.038947          -0.014882   \n",
       "gender                          0.054580 -0.025464           0.011496   \n",
       "age                             0.238171  0.325942          -0.078653   \n",
       "hypertension                    0.174474  0.160189          -0.021608   \n",
       "heart_disease                   0.161857  0.038899          -0.015712   \n",
       "ever_married                    0.155068  0.335705          -0.090838   \n",
       "Residence_type                 -0.004946 -0.000120           0.022859   \n",
       "avg_glucose_level               1.000000  0.168751          -0.014675   \n",
       "bmi                             0.168751  1.000000          -0.028600   \n",
       "work_Never_worked              -0.014675 -0.028600           1.000000   \n",
       "work_Private                    0.016588  0.203884          -0.076081   \n",
       "work_Self-employed              0.062694  0.070822          -0.028728   \n",
       "work_children                  -0.102250 -0.442843          -0.025915   \n",
       "smoke_formerly smoked           0.068111  0.104257          -0.030095   \n",
       "smoke_never smoked              0.023885  0.106220           0.036238   \n",
       "smoke_smokes                    0.017646  0.085579          -0.028099   \n",
       "\n",
       "                       work_Private  work_Self-employed  work_children  \\\n",
       "stroke                     0.011888            0.062168      -0.083869   \n",
       "gender                    -0.032639           -0.025971       0.089283   \n",
       "age                        0.116534            0.327989      -0.634215   \n",
       "hypertension              -0.005413            0.115442      -0.129506   \n",
       "heart_disease              0.000027            0.086760      -0.091634   \n",
       "ever_married               0.153830            0.192716      -0.544441   \n",
       "Residence_type            -0.018173            0.010594      -0.002309   \n",
       "avg_glucose_level          0.016588            0.062694      -0.102250   \n",
       "bmi                        0.203884            0.070822      -0.442843   \n",
       "work_Never_worked         -0.076081           -0.028728      -0.025915   \n",
       "work_Private               1.000000           -0.505475      -0.455992   \n",
       "work_Self-employed        -0.505475            1.000000      -0.172180   \n",
       "work_children             -0.455992           -0.172180       1.000000   \n",
       "smoke_formerly smoked      0.025526            0.093260      -0.160668   \n",
       "smoke_never smoked         0.104860            0.030668      -0.238041   \n",
       "smoke_smokes               0.100025           -0.003626      -0.165234   \n",
       "\n",
       "                       smoke_formerly smoked  smoke_never smoked  smoke_smokes  \n",
       "stroke                              0.064556           -0.004129      0.008939  \n",
       "gender                              0.042738           -0.098813      0.011477  \n",
       "age                                 0.236897            0.119307      0.073133  \n",
       "hypertension                        0.058853            0.065063      0.031240  \n",
       "heart_disease                       0.066804           -0.021856      0.044049  \n",
       "ever_married                        0.171256            0.102845      0.105226  \n",
       "Residence_type                      0.007654           -0.024466      0.027266  \n",
       "avg_glucose_level                   0.068111            0.023885      0.017646  \n",
       "bmi                                 0.104257            0.106220      0.085579  \n",
       "work_Never_worked                  -0.030095            0.036238     -0.028099  \n",
       "work_Private                        0.025526            0.104860      0.100025  \n",
       "work_Self-employed                  0.093260            0.030668     -0.003626  \n",
       "work_children                      -0.160668           -0.238041     -0.165234  \n",
       "smoke_formerly smoked               1.000000           -0.350934     -0.195571  \n",
       "smoke_never smoked                 -0.350934            1.000000     -0.327653  \n",
       "smoke_smokes                       -0.195571           -0.327653      1.000000  "
      ]
     },
     "execution_count": 35,
     "metadata": {},
     "output_type": "execute_result"
    }
   ],
   "source": [
    "df.corr()"
   ]
  },
  {
   "cell_type": "code",
   "execution_count": 36,
   "id": "863887d4",
   "metadata": {},
   "outputs": [
    {
     "data": {
      "text/plain": [
       "work_children           -0.083869\n",
       "work_Never_worked       -0.014882\n",
       "smoke_never smoked      -0.004129\n",
       "smoke_smokes             0.008939\n",
       "gender                   0.009117\n",
       "work_Private             0.011888\n",
       "Residence_type           0.015458\n",
       "bmi                      0.038947\n",
       "work_Self-employed       0.062168\n",
       "smoke_formerly smoked    0.064556\n",
       "ever_married             0.108340\n",
       "hypertension             0.127904\n",
       "avg_glucose_level        0.131945\n",
       "heart_disease            0.134914\n",
       "age                      0.245257\n",
       "stroke                   1.000000\n",
       "Name: stroke, dtype: float64"
      ]
     },
     "execution_count": 36,
     "metadata": {},
     "output_type": "execute_result"
    }
   ],
   "source": [
    "# Check correlation; to check for Predictor Variables based on Quality as Target variable\n",
    "df.corr()['stroke'].sort_values()"
   ]
  },
  {
   "cell_type": "code",
   "execution_count": 37,
   "id": "5deb83cb",
   "metadata": {},
   "outputs": [
    {
     "name": "stderr",
     "output_type": "stream",
     "text": [
      "C:\\Users\\yeong\\AppData\\Local\\Temp\\ipykernel_9516\\2358579485.py:6: DeprecationWarning: `np.bool` is a deprecated alias for the builtin `bool`. To silence this warning, use `bool` by itself. Doing this will not modify any behavior and is safe. If you specifically wanted the numpy scalar type, use `np.bool_` here.\n",
      "Deprecated in NumPy 1.20; for more details and guidance: https://numpy.org/devdocs/release/1.20.0-notes.html#deprecations\n",
      "  mask = np.zeros_like(df.corr(), dtype=np.bool)\n"
     ]
    },
    {
     "data": {
      "image/png": "[encoded data removed]",
      "text/plain": [
       "<Figure size 1080x1080 with 2 Axes>"
      ]
     },
     "metadata": {},
     "output_type": "display_data"
    }
   ],
   "source": [
    "# Copied code from seaborn examples: another good way to show Correlation\n",
    "# https://seaborn.pydata.org/examples/many_pairwise_correlations.html\n",
    "sns.set(style=\"white\")\n",
    "\n",
    "# Generate a mask for the upper triangle\n",
    "mask = np.zeros_like(df.corr(), dtype=np.bool)\n",
    "mask[np.triu_indices_from(mask)] = True\n",
    "\n",
    "# Set up the matplotlib figure\n",
    "f, ax = plt.subplots(figsize=(15, 15))\n",
    "\n",
    "# Generate a custom diverging colormap\n",
    "cmap = sns.diverging_palette(220, 10, as_cmap=True)\n",
    "\n",
    "# Draw the heatmap with the mask and correct aspect ratio\n",
    "sns.heatmap(df.corr(), mask=mask, cmap=cmap, vmax=1, center=0,\n",
    "            square=True, linewidths=.5, cbar_kws={\"shrink\": .5}, annot=True)\n",
    "\n",
    "plt.show();"
   ]
  },
  {
   "cell_type": "code",
   "execution_count": 38,
   "id": "685901f9",
   "metadata": {},
   "outputs": [
    {
     "data": {
      "text/html": [
       "<div>\n",
       "<style scoped>\n",
       "    .dataframe tbody tr th:only-of-type {\n",
       "        vertical-align: middle;\n",
       "    }\n",
       "\n",
       "    .dataframe tbody tr th {\n",
       "        vertical-align: top;\n",
       "    }\n",
       "\n",
       "    .dataframe thead th {\n",
       "        text-align: right;\n",
       "    }\n",
       "</style>\n",
       "<table border=\"1\" class=\"dataframe\">\n",
       "  <thead>\n",
       "    <tr style=\"text-align: right;\">\n",
       "      <th></th>\n",
       "      <th>count</th>\n",
       "      <th>mean</th>\n",
       "      <th>std</th>\n",
       "      <th>min</th>\n",
       "      <th>25%</th>\n",
       "      <th>50%</th>\n",
       "      <th>75%</th>\n",
       "      <th>max</th>\n",
       "    </tr>\n",
       "  </thead>\n",
       "  <tbody>\n",
       "    <tr>\n",
       "      <th>stroke</th>\n",
       "      <td>5110.0</td>\n",
       "      <td>0.048728</td>\n",
       "      <td>0.215320</td>\n",
       "      <td>0.00</td>\n",
       "      <td>0.000</td>\n",
       "      <td>0.000</td>\n",
       "      <td>0.00</td>\n",
       "      <td>1.00</td>\n",
       "    </tr>\n",
       "    <tr>\n",
       "      <th>gender</th>\n",
       "      <td>5110.0</td>\n",
       "      <td>0.413894</td>\n",
       "      <td>0.492578</td>\n",
       "      <td>0.00</td>\n",
       "      <td>0.000</td>\n",
       "      <td>0.000</td>\n",
       "      <td>1.00</td>\n",
       "      <td>1.00</td>\n",
       "    </tr>\n",
       "    <tr>\n",
       "      <th>age</th>\n",
       "      <td>5110.0</td>\n",
       "      <td>43.226614</td>\n",
       "      <td>22.612647</td>\n",
       "      <td>0.08</td>\n",
       "      <td>25.000</td>\n",
       "      <td>45.000</td>\n",
       "      <td>61.00</td>\n",
       "      <td>82.00</td>\n",
       "    </tr>\n",
       "    <tr>\n",
       "      <th>hypertension</th>\n",
       "      <td>5110.0</td>\n",
       "      <td>0.097456</td>\n",
       "      <td>0.296607</td>\n",
       "      <td>0.00</td>\n",
       "      <td>0.000</td>\n",
       "      <td>0.000</td>\n",
       "      <td>0.00</td>\n",
       "      <td>1.00</td>\n",
       "    </tr>\n",
       "    <tr>\n",
       "      <th>heart_disease</th>\n",
       "      <td>5110.0</td>\n",
       "      <td>0.054012</td>\n",
       "      <td>0.226063</td>\n",
       "      <td>0.00</td>\n",
       "      <td>0.000</td>\n",
       "      <td>0.000</td>\n",
       "      <td>0.00</td>\n",
       "      <td>1.00</td>\n",
       "    </tr>\n",
       "    <tr>\n",
       "      <th>ever_married</th>\n",
       "      <td>5110.0</td>\n",
       "      <td>0.656164</td>\n",
       "      <td>0.475034</td>\n",
       "      <td>0.00</td>\n",
       "      <td>0.000</td>\n",
       "      <td>1.000</td>\n",
       "      <td>1.00</td>\n",
       "      <td>1.00</td>\n",
       "    </tr>\n",
       "    <tr>\n",
       "      <th>Residence_type</th>\n",
       "      <td>5110.0</td>\n",
       "      <td>0.508023</td>\n",
       "      <td>0.499985</td>\n",
       "      <td>0.00</td>\n",
       "      <td>0.000</td>\n",
       "      <td>1.000</td>\n",
       "      <td>1.00</td>\n",
       "      <td>1.00</td>\n",
       "    </tr>\n",
       "    <tr>\n",
       "      <th>avg_glucose_level</th>\n",
       "      <td>5110.0</td>\n",
       "      <td>106.147677</td>\n",
       "      <td>45.283560</td>\n",
       "      <td>55.12</td>\n",
       "      <td>77.245</td>\n",
       "      <td>91.885</td>\n",
       "      <td>114.09</td>\n",
       "      <td>271.74</td>\n",
       "    </tr>\n",
       "    <tr>\n",
       "      <th>bmi</th>\n",
       "      <td>5110.0</td>\n",
       "      <td>28.893237</td>\n",
       "      <td>7.698018</td>\n",
       "      <td>10.30</td>\n",
       "      <td>23.800</td>\n",
       "      <td>28.400</td>\n",
       "      <td>32.80</td>\n",
       "      <td>97.60</td>\n",
       "    </tr>\n",
       "    <tr>\n",
       "      <th>work_Never_worked</th>\n",
       "      <td>5110.0</td>\n",
       "      <td>0.004305</td>\n",
       "      <td>0.065480</td>\n",
       "      <td>0.00</td>\n",
       "      <td>0.000</td>\n",
       "      <td>0.000</td>\n",
       "      <td>0.00</td>\n",
       "      <td>1.00</td>\n",
       "    </tr>\n",
       "    <tr>\n",
       "      <th>work_Private</th>\n",
       "      <td>5110.0</td>\n",
       "      <td>0.572407</td>\n",
       "      <td>0.494778</td>\n",
       "      <td>0.00</td>\n",
       "      <td>0.000</td>\n",
       "      <td>1.000</td>\n",
       "      <td>1.00</td>\n",
       "      <td>1.00</td>\n",
       "    </tr>\n",
       "    <tr>\n",
       "      <th>work_Self-employed</th>\n",
       "      <td>5110.0</td>\n",
       "      <td>0.160274</td>\n",
       "      <td>0.366896</td>\n",
       "      <td>0.00</td>\n",
       "      <td>0.000</td>\n",
       "      <td>0.000</td>\n",
       "      <td>0.00</td>\n",
       "      <td>1.00</td>\n",
       "    </tr>\n",
       "    <tr>\n",
       "      <th>work_children</th>\n",
       "      <td>5110.0</td>\n",
       "      <td>0.134442</td>\n",
       "      <td>0.341160</td>\n",
       "      <td>0.00</td>\n",
       "      <td>0.000</td>\n",
       "      <td>0.000</td>\n",
       "      <td>0.00</td>\n",
       "      <td>1.00</td>\n",
       "    </tr>\n",
       "    <tr>\n",
       "      <th>smoke_formerly smoked</th>\n",
       "      <td>5110.0</td>\n",
       "      <td>0.173190</td>\n",
       "      <td>0.378448</td>\n",
       "      <td>0.00</td>\n",
       "      <td>0.000</td>\n",
       "      <td>0.000</td>\n",
       "      <td>0.00</td>\n",
       "      <td>1.00</td>\n",
       "    </tr>\n",
       "    <tr>\n",
       "      <th>smoke_never smoked</th>\n",
       "      <td>5110.0</td>\n",
       "      <td>0.370254</td>\n",
       "      <td>0.482920</td>\n",
       "      <td>0.00</td>\n",
       "      <td>0.000</td>\n",
       "      <td>0.000</td>\n",
       "      <td>1.00</td>\n",
       "      <td>1.00</td>\n",
       "    </tr>\n",
       "    <tr>\n",
       "      <th>smoke_smokes</th>\n",
       "      <td>5110.0</td>\n",
       "      <td>0.154403</td>\n",
       "      <td>0.361370</td>\n",
       "      <td>0.00</td>\n",
       "      <td>0.000</td>\n",
       "      <td>0.000</td>\n",
       "      <td>0.00</td>\n",
       "      <td>1.00</td>\n",
       "    </tr>\n",
       "  </tbody>\n",
       "</table>\n",
       "</div>"
      ],
      "text/plain": [
       "                        count        mean        std    min     25%     50%  \\\n",
       "stroke                 5110.0    0.048728   0.215320   0.00   0.000   0.000   \n",
       "gender                 5110.0    0.413894   0.492578   0.00   0.000   0.000   \n",
       "age                    5110.0   43.226614  22.612647   0.08  25.000  45.000   \n",
       "hypertension           5110.0    0.097456   0.296607   0.00   0.000   0.000   \n",
       "heart_disease          5110.0    0.054012   0.226063   0.00   0.000   0.000   \n",
       "ever_married           5110.0    0.656164   0.475034   0.00   0.000   1.000   \n",
       "Residence_type         5110.0    0.508023   0.499985   0.00   0.000   1.000   \n",
       "avg_glucose_level      5110.0  106.147677  45.283560  55.12  77.245  91.885   \n",
       "bmi                    5110.0   28.893237   7.698018  10.30  23.800  28.400   \n",
       "work_Never_worked      5110.0    0.004305   0.065480   0.00   0.000   0.000   \n",
       "work_Private           5110.0    0.572407   0.494778   0.00   0.000   1.000   \n",
       "work_Self-employed     5110.0    0.160274   0.366896   0.00   0.000   0.000   \n",
       "work_children          5110.0    0.134442   0.341160   0.00   0.000   0.000   \n",
       "smoke_formerly smoked  5110.0    0.173190   0.378448   0.00   0.000   0.000   \n",
       "smoke_never smoked     5110.0    0.370254   0.482920   0.00   0.000   0.000   \n",
       "smoke_smokes           5110.0    0.154403   0.361370   0.00   0.000   0.000   \n",
       "\n",
       "                          75%     max  \n",
       "stroke                   0.00    1.00  \n",
       "gender                   1.00    1.00  \n",
       "age                     61.00   82.00  \n",
       "hypertension             0.00    1.00  \n",
       "heart_disease            0.00    1.00  \n",
       "ever_married             1.00    1.00  \n",
       "Residence_type           1.00    1.00  \n",
       "avg_glucose_level      114.09  271.74  \n",
       "bmi                     32.80   97.60  \n",
       "work_Never_worked        0.00    1.00  \n",
       "work_Private             1.00    1.00  \n",
       "work_Self-employed       0.00    1.00  \n",
       "work_children            0.00    1.00  \n",
       "smoke_formerly smoked    0.00    1.00  \n",
       "smoke_never smoked       1.00    1.00  \n",
       "smoke_smokes             0.00    1.00  "
      ]
     },
     "execution_count": 38,
     "metadata": {},
     "output_type": "execute_result"
    }
   ],
   "source": [
    "df.describe(include='all').T"
   ]
  },
  {
   "cell_type": "code",
   "execution_count": 39,
   "id": "f73af14f",
   "metadata": {},
   "outputs": [],
   "source": [
    "def facetgridplot(data, var):\n",
    "    facet = sns.FacetGrid(data, hue=\"stroke\", aspect=3)\n",
    "    facet.map(sns.kdeplot, var, shade= True)\n",
    "    facet.set(xlim=(0, data[var].max()))\n",
    "    facet.add_legend()\n",
    "    plt.show();"
   ]
  },
  {
   "cell_type": "code",
   "execution_count": 40,
   "id": "a2fd3b44",
   "metadata": {},
   "outputs": [
    {
     "data": {
      "image/png": "[encoded data removed]",
      "text/plain": [
       "<Figure size 693.725x216 with 1 Axes>"
      ]
     },
     "metadata": {},
     "output_type": "display_data"
    }
   ],
   "source": [
    "# OBSERVATION: The older a person is, the higher the risk of stroke\n",
    "\n",
    "facetgridplot(df_stroke, 'age')"
   ]
  },
  {
   "cell_type": "code",
   "execution_count": 41,
   "id": "a8e6b643",
   "metadata": {},
   "outputs": [
    {
     "data": {
      "image/png": "[encoded data removed]",
      "text/plain": [
       "<Figure size 693.725x216 with 1 Axes>"
      ]
     },
     "metadata": {},
     "output_type": "display_data"
    }
   ],
   "source": [
    "# OBSERVATION: Research has shown that Hypertension is a major cause for stroke but dataset does not show this clearly\n",
    "\n",
    "facetgridplot(df, 'hypertension')"
   ]
  },
  {
   "cell_type": "code",
   "execution_count": 42,
   "id": "60d42b0b",
   "metadata": {},
   "outputs": [
    {
     "data": {
      "image/png": "[encoded data removed]",
      "text/plain": [
       "<Figure size 693.725x216 with 1 Axes>"
      ]
     },
     "metadata": {},
     "output_type": "display_data"
    }
   ],
   "source": [
    "# OBSERVATION: Research has shown that Heart Disease is a major cause for stroke but dataset does not show this clearly\n",
    "\n",
    "facetgridplot(df, 'heart_disease')"
   ]
  },
  {
   "cell_type": "code",
   "execution_count": 43,
   "id": "d07e1b08",
   "metadata": {},
   "outputs": [
    {
     "data": {
      "image/png": "[encoded data removed]",
      "text/plain": [
       "<Figure size 693.725x216 with 1 Axes>"
      ]
     },
     "metadata": {},
     "output_type": "display_data"
    }
   ],
   "source": [
    "# OBSERVATION: Research has shown that SMOKING is a major cause for stroke but dataset does not show this clearly\n",
    "\n",
    "facetgridplot(df, 'smoke_smokes')"
   ]
  },
  {
   "cell_type": "code",
   "execution_count": 44,
   "id": "f529f347",
   "metadata": {},
   "outputs": [
    {
     "data": {
      "image/png": "[encoded data removed]",
      "text/plain": [
       "<Figure size 693.725x216 with 1 Axes>"
      ]
     },
     "metadata": {},
     "output_type": "display_data"
    }
   ],
   "source": [
    "# OBSERVATION: Higher glucose level damages blood cells and increases stroke as shown\n",
    "\n",
    "facetgridplot(df, 'avg_glucose_level')"
   ]
  },
  {
   "cell_type": "code",
   "execution_count": 45,
   "id": "13f86c9b",
   "metadata": {},
   "outputs": [
    {
     "data": {
      "image/png": "[encoded data removed]",
      "text/plain": [
       "<Figure size 693.725x216 with 1 Axes>"
      ]
     },
     "metadata": {},
     "output_type": "display_data"
    }
   ],
   "source": [
    "#OBSERVATION:  BMI is linked to stroke esp in the 30's range\n",
    "\n",
    "facetgridplot(df, 'bmi')"
   ]
  },
  {
   "cell_type": "code",
   "execution_count": 46,
   "id": "3686374d",
   "metadata": {},
   "outputs": [],
   "source": [
    "def bar_chart(data, feature):\n",
    "    strokepositive = data[data['stroke']==1][feature].value_counts(normalize=True)*100\n",
    "    strokenegative = data[data['stroke']==0][feature].value_counts(normalize=True)*100\n",
    "    df = pd.DataFrame([strokepositive,strokenegative])\n",
    "    df.index = ['Stroke','No Stroke']\n",
    "    df.plot(kind='bar',stacked=True, figsize=(10,5));"
   ]
  },
  {
   "cell_type": "code",
   "execution_count": 47,
   "id": "ceb75a76",
   "metadata": {},
   "outputs": [
    {
     "data": {
      "image/png": "[encoded data removed]",
      "text/plain": [
       "<Figure size 720x360 with 1 Axes>"
      ]
     },
     "metadata": {},
     "output_type": "display_data"
    }
   ],
   "source": [
    "# OBSERVATION:  Both Male and Female are at equal risk to stroke\n",
    "\n",
    "bar_chart(df, 'gender')"
   ]
  },
  {
   "cell_type": "code",
   "execution_count": 48,
   "id": "f7bdb84d",
   "metadata": {},
   "outputs": [
    {
     "data": {
      "text/plain": [
       "<AxesSubplot:xlabel='stroke', ylabel='count'>"
      ]
     },
     "execution_count": 48,
     "metadata": {},
     "output_type": "execute_result"
    },
    {
     "data": {
      "image/png": "[encoded data removed]",
      "text/plain": [
       "<Figure size 432x288 with 1 Axes>"
      ]
     },
     "metadata": {},
     "output_type": "display_data"
    }
   ],
   "source": [
    "# OBSERVATION:  Stroke data imbalanced\n",
    "\n",
    "df['stroke'].value_counts(normalize= True)  #normalise makes it into a percentage\n",
    "\n",
    "sns.countplot(x='stroke', data=df)\n"
   ]
  },
  {
   "cell_type": "code",
   "execution_count": 49,
   "id": "175f3b8b",
   "metadata": {},
   "outputs": [
    {
     "name": "stdout",
     "output_type": "stream",
     "text": [
      "[5 1 1 1 1 1 6 3 1 2 1 1 4 1 7]\n",
      "[False  True  True  True  True  True False False  True False  True  True\n",
      " False  True False]\n",
      "['gender' 'age' 'hypertension' 'heart_disease' 'ever_married'\n",
      " 'Residence_type' 'avg_glucose_level' 'bmi' 'work_Never_worked'\n",
      " 'work_Private' 'work_Self-employed' 'work_children'\n",
      " 'smoke_formerly smoked' 'smoke_never smoked' 'smoke_smokes']\n",
      "      gender   age  hypertension  heart_disease  ever_married        bmi  \\\n",
      "0          1  67.0             0              1             1  36.600000   \n",
      "1          0  61.0             0              0             1  28.893237   \n",
      "2          1  80.0             0              1             1  32.500000   \n",
      "3          0  49.0             0              0             1  34.400000   \n",
      "4          0  79.0             1              0             1  24.000000   \n",
      "...      ...   ...           ...            ...           ...        ...   \n",
      "5105       0  80.0             1              0             1  28.893237   \n",
      "5106       0  81.0             0              0             1  40.000000   \n",
      "5107       0  35.0             0              0             1  30.600000   \n",
      "5108       1  51.0             0              0             1  25.600000   \n",
      "5109       0  44.0             0              0             1  26.200000   \n",
      "\n",
      "      work_Private  work_Self-employed  smoke_formerly smoked  \n",
      "0                1                   0                      1  \n",
      "1                0                   1                      0  \n",
      "2                1                   0                      0  \n",
      "3                1                   0                      0  \n",
      "4                0                   1                      0  \n",
      "...            ...                 ...                    ...  \n",
      "5105             1                   0                      0  \n",
      "5106             0                   1                      0  \n",
      "5107             0                   1                      0  \n",
      "5108             1                   0                      1  \n",
      "5109             0                   0                      0  \n",
      "\n",
      "[5110 rows x 9 columns]\n"
     ]
    }
   ],
   "source": [
    "predictor_columns = [c for c in df.columns if c != 'stroke']\n",
    "\n",
    "# Load the dataset as a pandas data frame\n",
    "X = pd.DataFrame(df, columns = predictor_columns)\n",
    "y = df['stroke']\n",
    "\n",
    "# USE SCIKIT LEARN RFE TO SELECT X TOP FEATURES\n",
    "from sklearn.feature_selection import RFE\n",
    "estimator = LogisticRegression(solver='liblinear', random_state=0)\n",
    "selector = RFE(estimator, n_features_to_select= 9, step=1 )\n",
    "selector = selector.fit(X, y)\n",
    "\n",
    "#selector.support_\n",
    "print(selector.ranking_)\n",
    "print(selector.support_)\n",
    "print(selector.feature_names_in_)\n",
    "\n",
    "cols = selector.get_support(indices=True)\n",
    "X = df.iloc[:,cols]\n",
    "print(X)"
   ]
  },
  {
   "cell_type": "code",
   "execution_count": 64,
   "id": "dd54ae30",
   "metadata": {},
   "outputs": [],
   "source": [
    "# TAKE ALL COLUMNS EXCEPT TARGETT AS PREDICTOR COLUMNS\n",
    "predictor_columns = [c for c in df.columns if c != 'stroke']\n",
    "#predictor_columns = [ 'age', 'heart_disease', 'avg_glucose_level', 'hypertension', 'ever_married', \n",
    "#                   'smoke_formerly smoked', 'work_Self-employed', 'work_Private', 'gender', 'bmi']\n",
    "\n",
    "# LOAD DATA SET AS DATAFRAME\n",
    "X = pd.DataFrame(df, columns = predictor_columns)\n",
    "y = df['stroke']\n",
    "\n",
    "# SPLIT DATA INTO TRAINING AND TEST DATA \n",
    "from sklearn.model_selection import train_test_split\n",
    "X_train, X_test, y_train, y_test = train_test_split(X, y,test_size=None, stratify=y, random_state=0) # default test_size is 0.25\n",
    "#stratify ensures the same proportion of classes in both training and test dataset\n",
    "\n",
    "# STANDARDISE TRAINING DATA  \n",
    "from sklearn.preprocessing import StandardScaler\n",
    "scaler = StandardScaler()\n",
    "\n",
    "# FIT on training set only.\n",
    "scaler.fit(X_train)\n",
    "\n",
    "# APPLY TRANSFORM to both the training set AND the test set.\n",
    "X_train = scaler.transform(X_train)\n",
    "X_test = scaler.transform(X_test)\n",
    "\n",
    "# HANDLE IMBALANCED TRAINING DATA\n",
    "from imblearn.over_sampling import SMOTE \n",
    "model = SMOTE(random_state=42)\n",
    "X_train, y_train = model.fit_resample(X_train, y_train)  # this gives the Resampled X and Y-training data"
   ]
  },
  {
   "cell_type": "code",
   "execution_count": 65,
   "id": "d5ca004c",
   "metadata": {},
   "outputs": [
    {
     "name": "stdout",
     "output_type": "stream",
     "text": [
      "7290 1278\n"
     ]
    }
   ],
   "source": [
    "print(len(X_train), len(X_test))"
   ]
  },
  {
   "cell_type": "code",
   "execution_count": 52,
   "id": "f0c11a22",
   "metadata": {},
   "outputs": [
    {
     "data": {
      "text/plain": [
       "0    0.5\n",
       "1    0.5\n",
       "Name: stroke, dtype: float64"
      ]
     },
     "execution_count": 52,
     "metadata": {},
     "output_type": "execute_result"
    }
   ],
   "source": [
    "# Training Data is now balanced\n",
    "\n",
    "y_train.value_counts(normalize= True)  \n"
   ]
  },
  {
   "cell_type": "code",
   "execution_count": 66,
   "id": "8c99a243",
   "metadata": {},
   "outputs": [
    {
     "data": {
      "text/plain": [
       "0    0.951487\n",
       "1    0.048513\n",
       "Name: stroke, dtype: float64"
      ]
     },
     "execution_count": 66,
     "metadata": {},
     "output_type": "execute_result"
    }
   ],
   "source": [
    "# Check that test data remains unbalanced \n",
    "\n",
    "y_test.value_counts(normalize= True)  "
   ]
  },
  {
   "cell_type": "code",
   "execution_count": 54,
   "id": "80a5f851",
   "metadata": {},
   "outputs": [
    {
     "data": {
      "text/plain": [
       "(7290, 15)"
      ]
     },
     "execution_count": 54,
     "metadata": {},
     "output_type": "execute_result"
    }
   ],
   "source": [
    "X_train.shape"
   ]
  },
  {
   "cell_type": "markdown",
   "id": "99fd2663",
   "metadata": {},
   "source": [
    "# MACHINE LEARNING"
   ]
  },
  {
   "cell_type": "markdown",
   "id": "f674ff63",
   "metadata": {},
   "source": [
    "### 1. LOGISTICS REGRESSION"
   ]
  },
  {
   "cell_type": "code",
   "execution_count": 67,
   "id": "43a3f175",
   "metadata": {},
   "outputs": [
    {
     "name": "stdout",
     "output_type": "stream",
     "text": [
      "Score for Test Data      0.74883\n",
      "Score for Training Data  0.79753\n",
      "Score for Training Data from CV is 0.80 with a standard deviation of 0.00\n",
      "0.79676\n"
     ]
    }
   ],
   "source": [
    "from sklearn.linear_model import LogisticRegression\n",
    "from sklearn import metrics\n",
    "from sklearn.metrics import classification_report, confusion_matrix\n",
    "from sklearn.metrics import ConfusionMatrixDisplay\n",
    "import matplotlib.pyplot as plt\n",
    "from sklearn.metrics import f1_score\n",
    "\n",
    "model_lr = LogisticRegression(solver='liblinear', random_state=0) \n",
    "model_lr.fit(X_train, y_train)   \n",
    "y_predict= model_lr.predict(X_test) \n",
    "model_lr.predict_proba(X_test)  \n",
    "\n",
    "score_lr  = model_lr.score(X_test, y_test) \n",
    "score2_lr = model_lr.score(X_train,y_train) \n",
    "score_lrtest= round(score_lr,5)\n",
    "print(f'Score for Test Data      {round(score_lr,5)}')\n",
    "print(f'Score for Training Data  {round(score2_lr,5)}')\n",
    "\n",
    "\n",
    "# use Cross Validation on Training Data\n",
    "from sklearn.model_selection import cross_val_score \n",
    "from sklearn import metrics\n",
    "score2_lrcv = cross_val_score(model_lr, X_train, y_train, cv=5, scoring='f1_macro')  \n",
    "print(\"Score for Training Data from CV is %0.2f with a standard deviation of %0.2f\" % (score2_lrcv.mean(), score2_lrcv.std())) \n",
    "print(round(score2_lrcv.mean(),5))"
   ]
  },
  {
   "cell_type": "code",
   "execution_count": 68,
   "id": "84d45b96",
   "metadata": {},
   "outputs": [
    {
     "name": "stdout",
     "output_type": "stream",
     "text": [
      "              precision    recall  f1-score   support\n",
      "\n",
      "           0       0.75      0.98      0.85       931\n",
      "           1       0.71      0.13      0.22       347\n",
      "\n",
      "    accuracy                           0.75      1278\n",
      "   macro avg       0.73      0.55      0.53      1278\n",
      "weighted avg       0.74      0.75      0.68      1278\n",
      "\n"
     ]
    }
   ],
   "source": [
    "# F1 score for stroke is low, low recall and high precision\n",
    "\n",
    "print(classification_report(y_predict,y_test)) "
   ]
  },
  {
   "cell_type": "code",
   "execution_count": 57,
   "id": "4ed13f3b",
   "metadata": {},
   "outputs": [
    {
     "data": {
      "image/png": "[encoded data removed]",
      "text/plain": [
       "<Figure size 648x648 with 2 Axes>"
      ]
     },
     "metadata": {},
     "output_type": "display_data"
    }
   ],
   "source": [
    "cm = metrics.confusion_matrix(y_test, model_lr.predict(X_test))\n",
    "plt.figure(figsize=(9,9)) #print out seaborn heatmap of Confusion matrix\n",
    "sns.heatmap(cm,annot=True,fmt=\"d\", cmap=\"Blues\", linewidths= 1);\n",
    "plt.ylabel('Actual label', fontsize = 17);\n",
    "plt.xlabel('Predicted label', fontsize = 17);\n",
    "plt.title('Accuracy Score: {}'.format(score_lrtest), size = 13);\n",
    "plt.tick_params(labelsize= 15)"
   ]
  },
  {
   "cell_type": "markdown",
   "id": "f47f0d14",
   "metadata": {},
   "source": [
    "### SUPPORT VECTOR MACHINE"
   ]
  },
  {
   "cell_type": "code",
   "execution_count": 69,
   "id": "a0f1f47c",
   "metadata": {},
   "outputs": [
    {
     "name": "stdout",
     "output_type": "stream",
     "text": [
      "Score for Test Data      0.73787\n",
      "Score for Training Data  0.80055\n",
      "0.80 Accuracy of Training Data with a standard deviation of 0.00\n"
     ]
    }
   ],
   "source": [
    "from sklearn import svm\n",
    "\n",
    "model_svm = svm.SVC(kernel='linear', C=1,probability=True) \n",
    "svc= model_svm.fit(X_train, y_train) \n",
    " \n",
    "y_predict= model_svm.predict(X_test) \n",
    "model_svm.predict_proba(X_test)  \n",
    "\n",
    "score_svm= model_svm.score(X_test, y_test) # all classification models use ACCURACY as score\n",
    "score2_svm = model_svm.score(X_train,y_train) # do a score based on training so you can compare score from Train and Test to check overfitting.\n",
    "score_svmtest= round(score_svm,5)\n",
    "print(f'Score for Test Data      {score_svmtest}')\n",
    "print(f'Score for Training Data  {round(score2_svm,5)}')\n",
    "\n",
    "# use Cross Validation always on TRAINING DATA\n",
    "from sklearn.model_selection import cross_val_score \n",
    "score_svmcv = cross_val_score(model_svm, X_train, y_train, cv=5, scoring='f1_macro')  # default scoring of the test data = Accuracy but you can change to other parameters\n",
    "print(\"%0.2f Accuracy of Training Data with a standard deviation of %0.2f\" % (score_svmcv.mean(), score_svmcv.std())) # mean score and std deviation of score"
   ]
  },
  {
   "cell_type": "code",
   "execution_count": 72,
   "id": "7e4e9465",
   "metadata": {},
   "outputs": [
    {
     "name": "stdout",
     "output_type": "stream",
     "text": [
      "              precision    recall  f1-score   support\n",
      "\n",
      "           0       0.74      0.98      0.84       913\n",
      "           1       0.74      0.13      0.22       365\n",
      "\n",
      "    accuracy                           0.74      1278\n",
      "   macro avg       0.74      0.55      0.53      1278\n",
      "weighted avg       0.74      0.74      0.66      1278\n",
      "\n"
     ]
    }
   ],
   "source": [
    "# F1 score low as well, low Recall, High Precision\n",
    "\n",
    "print(classification_report(y_predict,y_test)) "
   ]
  },
  {
   "cell_type": "code",
   "execution_count": 73,
   "id": "f14396e4",
   "metadata": {},
   "outputs": [
    {
     "data": {
      "image/png": "[encoded data removed]",
      "text/plain": [
       "<Figure size 648x648 with 2 Axes>"
      ]
     },
     "metadata": {},
     "output_type": "display_data"
    }
   ],
   "source": [
    "cm = metrics.confusion_matrix(y_test, model_svm.predict(X_test))\n",
    "plt.figure(figsize=(9,9)) #print out seaborn heatmap of Confusion matrix\n",
    "sns.heatmap(cm,annot=True,fmt=\"d\", cmap=\"Blues\", linewidths= 1);\n",
    "plt.ylabel('Actual label', fontsize = 17);\n",
    "plt.xlabel('Predicted label', fontsize = 17);\n",
    "plt.title('Accuracy Score: {}'.format(score_svmtest), size = 13);\n",
    "plt.tick_params(labelsize= 15)"
   ]
  },
  {
   "cell_type": "markdown",
   "id": "150aac3e",
   "metadata": {},
   "source": [
    "### NAIVE BAYES"
   ]
  },
  {
   "cell_type": "code",
   "execution_count": 75,
   "id": "76845b3e",
   "metadata": {},
   "outputs": [
    {
     "name": "stdout",
     "output_type": "stream",
     "text": [
      "Score for Test Data      0.32942\n",
      "Score for Training Data  0.63882\n",
      "0.59 Accuracy of Training Data with a standard deviation of 0.00\n"
     ]
    }
   ],
   "source": [
    "from sklearn.naive_bayes import GaussianNB\n",
    "\n",
    "model_naive = GaussianNB()\n",
    "model_naive.fit(X_train, y_train)\n",
    "y_predict = model_naive.predict(X_test)\n",
    "score_naive= model_naive.score(X_test, y_test)\n",
    "score2_naive = model_naive.score(X_train,y_train)  \n",
    "score_naivetest= round(score_naive,5)\n",
    "print(f'Score for Test Data      {score_naivetest}')\n",
    "print(f'Score for Training Data  {round(score2_naive,5)}')\n",
    "\n",
    "\n",
    "# use Cross Validation always on TRAINING DATA\n",
    "from sklearn.model_selection import cross_val_score \n",
    "score_naivecv = cross_val_score(model_naive, X_train, y_train, cv=5, scoring='f1_macro')  # default scoring of the test data = Accuracy but you can change to other parameters\n",
    "print(\"%0.2f Accuracy of Training Data with a standard deviation of %0.2f\" % (score_naivecv.mean(), score_naivecv.std())) # mean score and std deviation of score\n"
   ]
  },
  {
   "cell_type": "code",
   "execution_count": 76,
   "id": "c48302eb",
   "metadata": {},
   "outputs": [
    {
     "name": "stdout",
     "output_type": "stream",
     "text": [
      "              precision    recall  f1-score   support\n",
      "\n",
      "           0       0.30      1.00      0.46       361\n",
      "           1       0.98      0.07      0.12       917\n",
      "\n",
      "    accuracy                           0.33      1278\n",
      "   macro avg       0.64      0.53      0.29      1278\n",
      "weighted avg       0.79      0.33      0.22      1278\n",
      "\n"
     ]
    }
   ],
   "source": [
    "# F1 score low, low recall,  high precision\n",
    "\n",
    "print(classification_report(y_predict,y_test)) "
   ]
  },
  {
   "cell_type": "code",
   "execution_count": 77,
   "id": "ac1ae2b5",
   "metadata": {},
   "outputs": [
    {
     "data": {
      "image/png": "[encoded data removed]",
      "text/plain": [
       "<Figure size 648x648 with 2 Axes>"
      ]
     },
     "metadata": {},
     "output_type": "display_data"
    }
   ],
   "source": [
    "cm = metrics.confusion_matrix(y_test, model_naive.predict(X_test))\n",
    "plt.figure(figsize=(9,9)) #print out seaborn heatmap of Confusion matrix\n",
    "sns.heatmap(cm,annot=True,fmt=\"d\", cmap=\"Blues\", linewidths= 1);\n",
    "plt.ylabel('Actual label', fontsize = 17);\n",
    "plt.xlabel('Predicted label', fontsize = 17);\n",
    "plt.title('Accuracy Score: {}'.format(score_naivetest), size = 13);\n",
    "plt.tick_params(labelsize= 15)"
   ]
  },
  {
   "cell_type": "code",
   "execution_count": 78,
   "id": "79d9211f",
   "metadata": {},
   "outputs": [
    {
     "name": "stdout",
     "output_type": "stream",
     "text": [
      "Score for Test Data      0.57277\n",
      "Score for Training Data  0.74431\n",
      "0.73 Accuracy of Training Data with a standard deviation of 0.00\n",
      "CPU times: total: 188 ms\n",
      "Wall time: 47.4 ms\n"
     ]
    }
   ],
   "source": [
    "%%time\n",
    "from sklearn.naive_bayes import BernoulliNB\n",
    "\n",
    "model_naive = BernoulliNB(binarize=0.1) # binarise is the threshold level setting)\n",
    "model_naive.fit(X_train, y_train)\n",
    "y_predict = model_naive.predict(X_test)\n",
    "score_naive= model_naive.score(X_test, y_test)\n",
    "score2_naive = model_naive.score(X_train,y_train)  \n",
    "score_naivetest= round(score_naive,5)\n",
    "print(f'Score for Test Data      {score_naivetest}')\n",
    "print(f'Score for Training Data  {round(score2_naive,5)}')\n",
    "\n",
    "# use Cross Validation always on TRAINING DATA\n",
    "from sklearn.model_selection import cross_val_score \n",
    "score_naivecv = cross_val_score(model_naive, X_train, y_train, cv=5, scoring='f1_macro')  # default scoring of the test data = Accuracy but you can change to other parameters\n",
    "print(\"%0.2f Accuracy of Training Data with a standard deviation of %0.2f\" % (score_naivecv.mean(), score_naivecv.std())) # mean score and std deviation of score"
   ]
  },
  {
   "cell_type": "code",
   "execution_count": 79,
   "id": "2759ef59",
   "metadata": {},
   "outputs": [
    {
     "name": "stdout",
     "output_type": "stream",
     "text": [
      "              precision    recall  f1-score   support\n",
      "\n",
      "           0       0.56      0.99      0.71       686\n",
      "           1       0.87      0.09      0.17       592\n",
      "\n",
      "    accuracy                           0.57      1278\n",
      "   macro avg       0.71      0.54      0.44      1278\n",
      "weighted avg       0.70      0.57      0.46      1278\n",
      "\n"
     ]
    }
   ],
   "source": [
    "# F1 score low, low recall, high precision\n",
    "\n",
    "print(classification_report(y_predict,y_test)) "
   ]
  },
  {
   "cell_type": "code",
   "execution_count": 80,
   "id": "b9dd0f5e",
   "metadata": {},
   "outputs": [
    {
     "data": {
      "image/png": "[encoded data removed]",
      "text/plain": [
       "<Figure size 648x648 with 2 Axes>"
      ]
     },
     "metadata": {},
     "output_type": "display_data"
    }
   ],
   "source": [
    "m = metrics.confusion_matrix(y_test, model_naive.predict(X_test))\n",
    "plt.figure(figsize=(9,9)) #print out seaborn heatmap of Confusion matrix\n",
    "sns.heatmap(cm,annot=True,fmt=\"d\", cmap=\"Blues\", linewidths= 1);\n",
    "plt.ylabel('Actual label', fontsize = 17);\n",
    "plt.xlabel('Predicted label', fontsize = 17);\n",
    "plt.title('Accuracy Score: {}'.format(score_naivetest), size = 13);\n",
    "plt.tick_params(labelsize= 15)"
   ]
  },
  {
   "cell_type": "code",
   "execution_count": 81,
   "id": "0d0091fe",
   "metadata": {},
   "outputs": [
    {
     "data": {
      "image/png": "[encoded data removed]",
      "text/plain": [
       "<Figure size 432x288 with 1 Axes>"
      ]
     },
     "metadata": {},
     "output_type": "display_data"
    }
   ],
   "source": [
    "from sklearn.metrics import roc_curve, auc\n",
    "fpr, tpr, _ = metrics.roc_curve(y_test, y_predict)\n",
    "\n",
    "# Store the Area Under the Curve (AUC) so we can annotate our graph with theis metric\n",
    "# AUC measures how well a model is able to distinguish between classes\n",
    "\n",
    "roc_auc = metrics.auc(fpr, tpr)\n",
    "\n",
    "plt.figure()\n",
    "lw = 2\n",
    "plt.plot(fpr, tpr, color='darkorange', lw = lw, label = 'ROC curve (area = %0.2f)' % roc_auc)\n",
    "plt.plot([0, 1], [0, 1], color = 'navy', lw = lw, linestyle = '--')\n",
    "plt.xlim([0.0, 1.0])\n",
    "plt.ylim([0.0, 1.0])\n",
    "plt.xlabel('False Positive Rate')\n",
    "plt.ylabel('True Positive Rate')\n",
    "plt.title('Receiver operating characteristic example')\n",
    "plt.legend(loc = \"lower right\")\n",
    "plt.show()\n"
   ]
  },
  {
   "cell_type": "markdown",
   "id": "5459f676",
   "metadata": {},
   "source": [
    "### GRIDSEARCH"
   ]
  },
  {
   "cell_type": "code",
   "execution_count": 82,
   "id": "f9ddd5a9",
   "metadata": {},
   "outputs": [],
   "source": [
    "from sklearn.model_selection import GridSearchCV"
   ]
  },
  {
   "cell_type": "code",
   "execution_count": 83,
   "id": "2c145d4e",
   "metadata": {},
   "outputs": [
    {
     "name": "stdout",
     "output_type": "stream",
     "text": [
      "Fitting 5 folds for each of 6 candidates, totalling 30 fits\n",
      "[CV] END ....................................C=1, penalty=l1; total time=   0.0s\n",
      "[CV] END ....................................C=1, penalty=l1; total time=   0.0s\n",
      "[CV] END ....................................C=1, penalty=l1; total time=   0.0s\n",
      "[CV] END ....................................C=1, penalty=l1; total time=   0.0s\n",
      "[CV] END ....................................C=1, penalty=l1; total time=   0.0s\n",
      "[CV] END ....................................C=1, penalty=l2; total time=   0.0s\n",
      "[CV] END ....................................C=1, penalty=l2; total time=   0.0s\n",
      "[CV] END ....................................C=1, penalty=l2; total time=   0.0s\n",
      "[CV] END ....................................C=1, penalty=l2; total time=   0.0s\n",
      "[CV] END ....................................C=1, penalty=l2; total time=   0.0s\n",
      "[CV] END ...................................C=10, penalty=l1; total time=   0.0s\n",
      "[CV] END ...................................C=10, penalty=l1; total time=   0.0s\n",
      "[CV] END ...................................C=10, penalty=l1; total time=   0.0s\n",
      "[CV] END ...................................C=10, penalty=l1; total time=   0.0s\n",
      "[CV] END ...................................C=10, penalty=l1; total time=   0.0s\n",
      "[CV] END ...................................C=10, penalty=l2; total time=   0.0s\n",
      "[CV] END ...................................C=10, penalty=l2; total time=   0.0s\n",
      "[CV] END ...................................C=10, penalty=l2; total time=   0.0s\n",
      "[CV] END ...................................C=10, penalty=l2; total time=   0.0s\n",
      "[CV] END ...................................C=10, penalty=l2; total time=   0.0s\n",
      "[CV] END ..................................C=100, penalty=l1; total time=   0.0s\n",
      "[CV] END ..................................C=100, penalty=l1; total time=   0.0s\n",
      "[CV] END ..................................C=100, penalty=l1; total time=   0.0s\n",
      "[CV] END ..................................C=100, penalty=l1; total time=   0.0s\n",
      "[CV] END ..................................C=100, penalty=l1; total time=   0.0s\n",
      "[CV] END ..................................C=100, penalty=l2; total time=   0.0s\n",
      "[CV] END ..................................C=100, penalty=l2; total time=   0.0s\n",
      "[CV] END ..................................C=100, penalty=l2; total time=   0.0s\n",
      "[CV] END ..................................C=100, penalty=l2; total time=   0.0s\n",
      "[CV] END ..................................C=100, penalty=l2; total time=   0.0s\n"
     ]
    },
    {
     "data": {
      "text/html": [
       "<style>#sk-container-id-1 {color: black;background-color: white;}#sk-container-id-1 pre{padding: 0;}#sk-container-id-1 div.sk-toggleable {background-color: white;}#sk-container-id-1 label.sk-toggleable__label {cursor: pointer;display: block;width: 100%;margin-bottom: 0;padding: 0.3em;box-sizing: border-box;text-align: center;}#sk-container-id-1 label.sk-toggleable__label-arrow:before {content: \"▸\";float: left;margin-right: 0.25em;color: #696969;}#sk-container-id-1 label.sk-toggleable__label-arrow:hover:before {color: black;}#sk-container-id-1 div.sk-estimator:hover label.sk-toggleable__label-arrow:before {color: black;}#sk-container-id-1 div.sk-toggleable__content {max-height: 0;max-width: 0;overflow: hidden;text-align: left;background-color: #f0f8ff;}#sk-container-id-1 div.sk-toggleable__content pre {margin: 0.2em;color: black;border-radius: 0.25em;background-color: #f0f8ff;}#sk-container-id-1 input.sk-toggleable__control:checked~div.sk-toggleable__content {max-height: 200px;max-width: 100%;overflow: auto;}#sk-container-id-1 input.sk-toggleable__control:checked~label.sk-toggleable__label-arrow:before {content: \"▾\";}#sk-container-id-1 div.sk-estimator input.sk-toggleable__control:checked~label.sk-toggleable__label {background-color: #d4ebff;}#sk-container-id-1 div.sk-label input.sk-toggleable__control:checked~label.sk-toggleable__label {background-color: #d4ebff;}#sk-container-id-1 input.sk-hidden--visually {border: 0;clip: rect(1px 1px 1px 1px);clip: rect(1px, 1px, 1px, 1px);height: 1px;margin: -1px;overflow: hidden;padding: 0;position: absolute;width: 1px;}#sk-container-id-1 div.sk-estimator {font-family: monospace;background-color: #f0f8ff;border: 1px dotted black;border-radius: 0.25em;box-sizing: border-box;margin-bottom: 0.5em;}#sk-container-id-1 div.sk-estimator:hover {background-color: #d4ebff;}#sk-container-id-1 div.sk-parallel-item::after {content: \"\";width: 100%;border-bottom: 1px solid gray;flex-grow: 1;}#sk-container-id-1 div.sk-label:hover label.sk-toggleable__label {background-color: #d4ebff;}#sk-container-id-1 div.sk-serial::before {content: \"\";position: absolute;border-left: 1px solid gray;box-sizing: border-box;top: 0;bottom: 0;left: 50%;z-index: 0;}#sk-container-id-1 div.sk-serial {display: flex;flex-direction: column;align-items: center;background-color: white;padding-right: 0.2em;padding-left: 0.2em;position: relative;}#sk-container-id-1 div.sk-item {position: relative;z-index: 1;}#sk-container-id-1 div.sk-parallel {display: flex;align-items: stretch;justify-content: center;background-color: white;position: relative;}#sk-container-id-1 div.sk-item::before, #sk-container-id-1 div.sk-parallel-item::before {content: \"\";position: absolute;border-left: 1px solid gray;box-sizing: border-box;top: 0;bottom: 0;left: 50%;z-index: -1;}#sk-container-id-1 div.sk-parallel-item {display: flex;flex-direction: column;z-index: 1;position: relative;background-color: white;}#sk-container-id-1 div.sk-parallel-item:first-child::after {align-self: flex-end;width: 50%;}#sk-container-id-1 div.sk-parallel-item:last-child::after {align-self: flex-start;width: 50%;}#sk-container-id-1 div.sk-parallel-item:only-child::after {width: 0;}#sk-container-id-1 div.sk-dashed-wrapped {border: 1px dashed gray;margin: 0 0.4em 0.5em 0.4em;box-sizing: border-box;padding-bottom: 0.4em;background-color: white;}#sk-container-id-1 div.sk-label label {font-family: monospace;font-weight: bold;display: inline-block;line-height: 1.2em;}#sk-container-id-1 div.sk-label-container {text-align: center;}#sk-container-id-1 div.sk-container {/* jupyter's `normalize.less` sets `[hidden] { display: none; }` but bootstrap.min.css set `[hidden] { display: none !important; }` so we also need the `!important` here to be able to override the default hidden behavior on the sphinx rendered scikit-learn.org. See: https://github.com/scikit-learn/scikit-learn/issues/21755 */display: inline-block !important;position: relative;}#sk-container-id-1 div.sk-text-repr-fallback {display: none;}</style><div id=\"sk-container-id-1\" class=\"sk-top-container\"><div class=\"sk-text-repr-fallback\"><pre>GridSearchCV(cv=5, error_score=&#x27;raise&#x27;,\n",
       "             estimator=LogisticRegression(solver=&#x27;liblinear&#x27;),\n",
       "             param_grid={&#x27;C&#x27;: [1, 10, 100], &#x27;penalty&#x27;: [&#x27;l1&#x27;, &#x27;l2&#x27;]},\n",
       "             scoring=&#x27;f1_macro&#x27;, verbose=2)</pre><b>In a Jupyter environment, please rerun this cell to show the HTML representation or trust the notebook. <br />On GitHub, the HTML representation is unable to render, please try loading this page with nbviewer.org.</b></div><div class=\"sk-container\" hidden><div class=\"sk-item sk-dashed-wrapped\"><div class=\"sk-label-container\"><div class=\"sk-label sk-toggleable\"><input class=\"sk-toggleable__control sk-hidden--visually\" id=\"sk-estimator-id-1\" type=\"checkbox\" ><label for=\"sk-estimator-id-1\" class=\"sk-toggleable__label sk-toggleable__label-arrow\">GridSearchCV</label><div class=\"sk-toggleable__content\"><pre>GridSearchCV(cv=5, error_score=&#x27;raise&#x27;,\n",
       "             estimator=LogisticRegression(solver=&#x27;liblinear&#x27;),\n",
       "             param_grid={&#x27;C&#x27;: [1, 10, 100], &#x27;penalty&#x27;: [&#x27;l1&#x27;, &#x27;l2&#x27;]},\n",
       "             scoring=&#x27;f1_macro&#x27;, verbose=2)</pre></div></div></div><div class=\"sk-parallel\"><div class=\"sk-parallel-item\"><div class=\"sk-item\"><div class=\"sk-label-container\"><div class=\"sk-label sk-toggleable\"><input class=\"sk-toggleable__control sk-hidden--visually\" id=\"sk-estimator-id-2\" type=\"checkbox\" ><label for=\"sk-estimator-id-2\" class=\"sk-toggleable__label sk-toggleable__label-arrow\">estimator: LogisticRegression</label><div class=\"sk-toggleable__content\"><pre>LogisticRegression(solver=&#x27;liblinear&#x27;)</pre></div></div></div><div class=\"sk-serial\"><div class=\"sk-item\"><div class=\"sk-estimator sk-toggleable\"><input class=\"sk-toggleable__control sk-hidden--visually\" id=\"sk-estimator-id-3\" type=\"checkbox\" ><label for=\"sk-estimator-id-3\" class=\"sk-toggleable__label sk-toggleable__label-arrow\">LogisticRegression</label><div class=\"sk-toggleable__content\"><pre>LogisticRegression(solver=&#x27;liblinear&#x27;)</pre></div></div></div></div></div></div></div></div></div></div>"
      ],
      "text/plain": [
       "GridSearchCV(cv=5, error_score='raise',\n",
       "             estimator=LogisticRegression(solver='liblinear'),\n",
       "             param_grid={'C': [1, 10, 100], 'penalty': ['l1', 'l2']},\n",
       "             scoring='f1_macro', verbose=2)"
      ]
     },
     "execution_count": 83,
     "metadata": {},
     "output_type": "execute_result"
    }
   ],
   "source": [
    "lr_params = {\n",
    "    'penalty': ['l1','l2'],\n",
    "    'C': [1, 10, 100]\n",
    "}\n",
    "\n",
    "lr_gs = GridSearchCV(LogisticRegression(solver = \"liblinear\" ), lr_params, cv=5, verbose=2, error_score ='raise', scoring='f1_macro' )\n",
    "lr_gs.fit(X_train, y_train)"
   ]
  },
  {
   "cell_type": "code",
   "execution_count": 84,
   "id": "e5558d80",
   "metadata": {},
   "outputs": [
    {
     "name": "stdout",
     "output_type": "stream",
     "text": [
      "{'C': 10, 'penalty': 'l1'}\n",
      "0.796766534488391\n"
     ]
    }
   ],
   "source": [
    "best_svc = lr_gs.best_estimator_\n",
    "print(lr_gs.best_params_)\n",
    "print(lr_gs.best_score_)"
   ]
  },
  {
   "cell_type": "code",
   "execution_count": 86,
   "id": "3bea4650",
   "metadata": {},
   "outputs": [
    {
     "name": "stdout",
     "output_type": "stream",
     "text": [
      "Score for Test Data      0.74883\n",
      "Score for Training Data  0.79767\n",
      "              precision    recall  f1-score   support\n",
      "\n",
      "           0       0.98      0.75      0.85      1216\n",
      "           1       0.13      0.71      0.22        62\n",
      "\n",
      "    accuracy                           0.75      1278\n",
      "   macro avg       0.55      0.73      0.53      1278\n",
      "weighted avg       0.94      0.75      0.82      1278\n",
      "\n"
     ]
    },
    {
     "data": {
      "image/png": "[encoded data removed]",
      "text/plain": [
       "<Figure size 432x288 with 1 Axes>"
      ]
     },
     "metadata": {},
     "output_type": "display_data"
    },
    {
     "name": "stdout",
     "output_type": "stream",
     "text": [
      "CPU times: total: 812 ms\n",
      "Wall time: 223 ms\n"
     ]
    }
   ],
   "source": [
    "%%time\n",
    "# F1 score unchanged at 0.22, Recall has gone up, Precision drops\n",
    "\n",
    "\n",
    "model_lr = LogisticRegression(solver='liblinear',C=10, random_state=0, penalty= 'l2') \n",
    "model_lr.fit(X_train, y_train)   \n",
    "y_predict= model_lr.predict(X_test) \n",
    "model_lr.predict_proba(X_test)  \n",
    "\n",
    "score_lr  = model_lr.score(X_test, y_test) \n",
    "score2_lr = model_lr.score(X_train,y_train) \n",
    "score_lrtest= round(score_lr,5)\n",
    "print(f'Score for Test Data      {score_lrtest}')\n",
    "print(f'Score for Training Data  {round(score2_lr,5)}')\n",
    "\n",
    "print(classification_report(y_test, y_predict))\n",
    "\n",
    "from sklearn.metrics import roc_curve, auc\n",
    "fpr, tpr, _ = metrics.roc_curve(y_test, y_predict)\n",
    "\n",
    "# Store the Area Under the Curve (AUC) so we can annotate our graph with theis metric\n",
    "# AUC measures how well a model is able to distinguish between classes\n",
    "\n",
    "roc_auc = metrics.auc(fpr, tpr)\n",
    "\n",
    "plt.figure()\n",
    "lw = 2\n",
    "plt.plot(fpr, tpr, color='darkorange', lw = lw, label = 'ROC curve (area = %0.2f)' % roc_auc)\n",
    "plt.plot([0, 1], [0, 1], color = 'navy', lw = lw, linestyle = '--')\n",
    "plt.xlim([0.0, 1.0])\n",
    "plt.ylim([0.0, 1.0])\n",
    "plt.xlabel('False Positive Rate')\n",
    "plt.ylabel('True Positive Rate')\n",
    "plt.title('Receiver operating characteristic example')\n",
    "plt.legend(loc = \"lower right\")\n",
    "plt.show()\n"
   ]
  },
  {
   "cell_type": "code",
   "execution_count": null,
   "id": "5e4cd907",
   "metadata": {},
   "outputs": [],
   "source": [
    "svc_params = {\n",
    "    'C': [1, 10, 100],\n",
    "    'gamma': [0.001, 0.0001],\n",
    "    'kernel': ['linear','rbf']\n",
    "}\n"
   ]
  },
  {
   "cell_type": "code",
   "execution_count": null,
   "id": "ac908094",
   "metadata": {},
   "outputs": [],
   "source": [
    "from sklearn.svm import SVC\n",
    "model_svm = svm.SVC() \n",
    "svc= model_svm.fit(X_train, y_train) \n",
    "\n",
    "svc_gs = GridSearchCV(SVC(probability=True), svc_params, cv=5, verbose=2, scoring='f1_macro')\n",
    "svc_gs.fit(X_train, y_train)\n",
    "\n",
    "best_svc = svc_gs.best_estimator_\n",
    "print(svc_gs.best_params_)\n",
    "print(svc_gs.best_score_)\n"
   ]
  },
  {
   "cell_type": "code",
   "execution_count": 87,
   "id": "a4e24b99",
   "metadata": {},
   "outputs": [
    {
     "name": "stdout",
     "output_type": "stream",
     "text": [
      "Score for Test Data      0.75352\n",
      "Score for Training Data  0.82743\n",
      "              precision    recall  f1-score   support\n",
      "\n",
      "           0       0.76      0.98      0.85       937\n",
      "           1       0.71      0.13      0.22       341\n",
      "\n",
      "    accuracy                           0.75      1278\n",
      "   macro avg       0.73      0.55      0.54      1278\n",
      "weighted avg       0.74      0.75      0.68      1278\n",
      "\n"
     ]
    },
    {
     "data": {
      "image/png": "[encoded data removed]",
      "text/plain": [
       "<Figure size 432x288 with 1 Axes>"
      ]
     },
     "metadata": {},
     "output_type": "display_data"
    },
    {
     "name": "stdout",
     "output_type": "stream",
     "text": [
      "CPU times: total: 10 s\n",
      "Wall time: 10.1 s\n"
     ]
    }
   ],
   "source": [
    "%%time\n",
    "model_svm = svm.SVC(kernel='rbf', gamma = 0.001, C=100,probability=True) \n",
    "svc= model_svm.fit(X_train, y_train) \n",
    " \n",
    "y_predict= model_svm.predict(X_test) \n",
    "model_svm.predict_proba(X_test)  \n",
    "\n",
    "score_svm= model_svm.score(X_test, y_test) # all classification models use ACCURACY as score\n",
    "score2_svm = model_svm.score(X_train,y_train) # do a score based on training so you can compare score from Train and Test to check overfitting.\n",
    "score_svmtest= round(score_svm,5)\n",
    "print(f'Score for Test Data      {score_svmtest}')\n",
    "print(f'Score for Training Data  {round(score2_svm,5)}')\n",
    "\n",
    "print(classification_report(y_predict,y_test))\n",
    "\n",
    "from sklearn.metrics import roc_curve, auc\n",
    "fpr, tpr, _ = metrics.roc_curve(y_test, y_predict)\n",
    "\n",
    "# Store the Area Under the Curve (AUC) so we can annotate our graph with theis metric\n",
    "# AUC measures how well a model is able to distinguish between classes\n",
    "\n",
    "roc_auc = metrics.auc(fpr, tpr)\n",
    "\n",
    "plt.figure()\n",
    "lw = 2\n",
    "plt.plot(fpr, tpr, color='darkorange', lw = lw, label = 'ROC curve (area = %0.2f)' % roc_auc)\n",
    "plt.plot([0, 1], [0, 1], color = 'navy', lw = lw, linestyle = '--')\n",
    "plt.xlim([0.0, 1.0])\n",
    "plt.ylim([0.0, 1.0])\n",
    "plt.xlabel('False Positive Rate')\n",
    "plt.ylabel('True Positive Rate')\n",
    "plt.title('Receiver operating characteristic example')\n",
    "plt.legend(loc = \"lower right\")\n",
    "plt.show()\n"
   ]
  },
  {
   "cell_type": "markdown",
   "id": "769ce604",
   "metadata": {},
   "source": [
    "### PLOT ROC OF 3 ALGORITHMS"
   ]
  },
  {
   "cell_type": "code",
   "execution_count": 88,
   "id": "2af76646",
   "metadata": {},
   "outputs": [
    {
     "data": {
      "image/png": "[encoded data removed]",
      "text/plain": [
       "<Figure size 432x288 with 1 Axes>"
      ]
     },
     "metadata": {},
     "output_type": "display_data"
    }
   ],
   "source": [
    "model_log = LogisticRegression(solver='liblinear', random_state=0, penalty= 'l2') # apply the tuned hyperparameters here\n",
    "model_log.fit(X_train, y_train) \n",
    "model_log.predict_proba(X_test)  \n",
    "\n",
    "y_predictlog= model_log.predict(X_test) \n",
    "fpr, tpr, _ = metrics.roc_curve(y_test, y_predictlog)\n",
    "auclog = round(metrics.roc_auc_score(y_test, y_predictlog), 4)\n",
    "plt.plot(fpr,tpr,label=\"Logistic Regression, AUC=\"+str(auclog));\n",
    "\n",
    "\n",
    "model_svm = svm.SVC(kernel='rbf', gamma = 0.001, C=100,probability=True)  # apply the tuned hyperparameters here we set to true so we can calculate predict.probability to plot ROC even though SVC is not based on probability\n",
    "model_svm.fit(X_train, y_train) # model learns relationship between X and Y based on Training Data X-train\n",
    "y_predictsvm= model_svm.predict(X_test) # Based on the model trained, predict the output using Test Data  X-test.  Result is 0 or 1.\n",
    "fpr, tpr, _ = metrics.roc_curve(y_test, y_predictsvm)\n",
    "aucsvm = round(metrics.roc_auc_score(y_test, y_predictsvm), 4)\n",
    "plt.plot(fpr,tpr,label=\"SVM, AUC=\"+str(aucsvm));\n",
    "\n",
    "\n",
    "model_naive = BernoulliNB()\n",
    "model_naive.fit(X_train, y_train)\n",
    "y_predictnaive = model_naive.predict(X_test)\n",
    "fpr, tpr, _ = metrics.roc_curve(y_test, y_predictnaive)\n",
    "aucnaive = round(metrics.roc_auc_score(y_test, y_predictnaive), 4)\n",
    "plt.plot(fpr,tpr,label=\"Naive Bayes, AUC=\"+str(aucnaive));\n",
    "\n",
    "plt.xlabel('False Positive Rate')\n",
    "plt.ylabel('True Positive Rate')\n",
    "plt.title('Receiver operating characteristic example')\n",
    "\n",
    "plt.legend()\n",
    "\n",
    "plt.show()"
   ]
  },
  {
   "cell_type": "code",
   "execution_count": 89,
   "id": "8755cb9a",
   "metadata": {
    "scrolled": true
   },
   "outputs": [
    {
     "name": "stdout",
     "output_type": "stream",
     "text": [
      "Best Threshold=0.866915, F-Score=0.299\n",
      "Precision at best F1 score = 0.2923076923076923\n",
      "Recall at best F1 score    = 0.3064516129032258\n"
     ]
    },
    {
     "data": {
      "image/png": "[encoded data removed]",
      "text/plain": [
       "<Figure size 432x288 with 1 Axes>"
      ]
     },
     "metadata": {},
     "output_type": "display_data"
    }
   ],
   "source": [
    "### Predict test_y values and probabilities based on fitted logistic \n",
    "#regression model\n",
    "import numpy as np\n",
    "\n",
    "y_pred=model_log.predict(X_test) \n",
    "\n",
    "probs_y=model_log.predict_proba(X_test) \n",
    "# probs_y is a 2-D array of probability of being labeled as 0 (firstcolumn of array) vs 1 (2nd column in array)\n",
    "\n",
    "from sklearn.metrics import precision_recall_curve\n",
    "precision, recall, thresholds = precision_recall_curve(y_test, probs_y[:, 1]) \n",
    "\n",
    "\n",
    "# convert to f score\n",
    "fscore = (2 * precision * recall) / (precision + recall)\n",
    "\n",
    "# locate the index of the largest f score\n",
    "ix = np.argmax(fscore)\n",
    "print('Best Threshold=%f, F-Score=%.3f' % (thresholds[ix], fscore[ix]))\n",
    "print(f'Precision at best F1 score = {precision[ix]}')\n",
    "print(f'Recall at best F1 score    = {recall[ix]}')                                              \n",
    "\n",
    "\n",
    "\n",
    "#retrieve probability of being 1(in second column of probs_y)\n",
    "pr_auc = metrics.auc(recall, precision)\n",
    "\n",
    "plt.title(\"Precision-Recall vs Threshold Chart\")\n",
    "plt.plot(thresholds, precision[: -1], \"b--\", label=\"Precision\")\n",
    "plt.plot(thresholds, recall[: -1], \"r--\", label=\"Recall\")\n",
    "plt.axvline(x = thresholds[ix], color = 'r', label = 'Optimal Threshold for F1 Score')\n",
    "plt.ylabel(\"Precision, Recall\")\n",
    "plt.xlabel(\"Threshold\")\n",
    "plt.legend(loc=\"lower left\")\n",
    "plt.ylim([0,1]);\n",
    "\n",
    "# The Threshold for best F1 score comes with a drastic reduction in RECALL which is not acceptable."
   ]
  }
 ],
 "metadata": {
  "kernelspec": {
   "display_name": "Python 3 (ipykernel)",
   "language": "python",
   "name": "python3"
  },
  "language_info": {
   "codemirror_mode": {
    "name": "ipython",
    "version": 3
   },
   "file_extension": ".py",
   "mimetype": "text/x-python",
   "name": "python",
   "nbconvert_exporter": "python",
   "pygments_lexer": "ipython3",
   "version": "3.10.4"
  }
 },
 "nbformat": 4,
 "nbformat_minor": 5
}
